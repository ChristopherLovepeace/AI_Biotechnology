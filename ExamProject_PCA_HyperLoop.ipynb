{
 "cells": [
  {
   "cell_type": "code",
   "execution_count": 5,
   "metadata": {},
   "outputs": [],
   "source": [
    "import numpy as np\n",
    "\n",
    "#Read data\n",
    "\n",
    "X = []\n",
    "samples_x = []\n",
    "\n",
    "f = open(\"genotypes.csv\",\"r\")\n",
    "\n",
    "for i,line in enumerate(f):\n",
    "    if(i == 0):\n",
    "       continue\n",
    "    \n",
    "    sv = line.strip().split(\",\")\n",
    "    samples_x.append(sv[0])\n",
    "    \n",
    "    row = []\n",
    "    for element in sv[1:]:\n",
    "        row.append(element)\n",
    "    X.append(row)\n",
    "    \n",
    "f.close()\n",
    "\n",
    "X = np.array(X)\n",
    "samples_x = np.array(samples_x)\n",
    "\n",
    "# Read phenotype values\n",
    "\n",
    "y = []\n",
    "samples_y = []\n",
    "\n",
    "f = open(\"phenotype_values.csv\",\"r\")\n",
    "\n",
    "for i,line in enumerate(f):\n",
    "    if(i == 0):\n",
    "       continue\n",
    "    sv = line.strip().split(\",\")\n",
    "    samples_y.append(sv[0])\n",
    "    y.append(float(sv[1]))\n",
    "    \n",
    "f.close()\n",
    "\n",
    "y = np.array(y)\n",
    "samples_y = np.array(samples_y)"
   ]
  },
  {
   "cell_type": "code",
   "execution_count": 6,
   "metadata": {},
   "outputs": [
    {
     "name": "stdout",
     "output_type": "stream",
     "text": [
      "[['G' 'G' 'G' ... 'nan' 'T' 'A']\n",
      " ['G' 'G' 'G' ... 'A' 'T' 'A']\n",
      " ['A' 'G' 'A' ... 'A' 'nan' 'A']\n",
      " ...\n",
      " ['G' 'A' 'G' ... 'T' 'T' 'A']\n",
      " ['G' 'G' 'A' ... 'A' 'T' 'A']\n",
      " ['G' 'G' 'G' ... 'A' 'T' 'C']]\n"
     ]
    }
   ],
   "source": [
    "#Replace missing values with np.nan\n",
    "\n",
    "X = np.where(X == \"?\", np.nan, X)\n",
    "\n",
    "#Encode nucleotide values\n",
    "\n",
    "for j in range (X.shape[1]):\n",
    "    \n",
    "    values, counts = np.unique(X[:,j], return_counts=True)\n",
    "    values=values[0:2]\n",
    "    counts=counts[0:2]\n",
    "\n",
    "    X[:,j] = np.where(X[:,j] == values[np.argmax(counts)], 0.0, X[:,j])\n",
    "    X[:,j] = np.where(X[:,j] == values[np.argmin(counts)], 2.0, X[:,j])\n",
    "\n",
    "#Convert array from string to float\n",
    "X = X.astype(np.float_)"
   ]
  },
  {
   "cell_type": "code",
   "execution_count": 7,
   "metadata": {},
   "outputs": [
    {
     "name": "stdout",
     "output_type": "stream",
     "text": [
      "All samples have less than 50 % missing values\n"
     ]
    }
   ],
   "source": [
    "# Assess missing values per sample\n",
    "\n",
    "sample_indices_to_remove = []\n",
    "for i in range(X.shape[0]):\n",
    "    missing = np.isnan(X[i,:]).sum()/X.shape[1]*100\n",
    "    if missing>50:\n",
    "        print(\"Sample %d has %.2f missing values\" % (i,missing))\n",
    "        sample_indices_to_remove.append(i)\n",
    "\n",
    "if (len(sample_indices_to_remove) == 0):\n",
    "    print(\"All samples have less than 50 % missing values\")"
   ]
  },
  {
   "cell_type": "code",
   "execution_count": 8,
   "metadata": {},
   "outputs": [],
   "source": [
    "# Impute missing values on training data\n",
    "\n",
    "from sklearn.impute import SimpleImputer\n",
    "\n",
    "imputer = SimpleImputer(strategy=\"most_frequent\")\n",
    "\n",
    "X = imputer.fit_transform(X)"
   ]
  },
  {
   "cell_type": "code",
   "execution_count": 9,
   "metadata": {},
   "outputs": [],
   "source": [
    "# Match genotypes with phenotype values\n",
    "truth_table = (samples_x[:,np.newaxis]==samples_y)\n",
    "ind = np.where(truth_table==True)\n",
    "\n",
    "samples_x = samples_x[ind[0]]\n",
    "samples_y = samples_y[ind[1]]\n",
    "\n",
    "X = X[ind[0],:]\n",
    "y = y[ind[1]]"
   ]
  },
  {
   "cell_type": "code",
   "execution_count": 10,
   "metadata": {},
   "outputs": [
    {
     "name": "stdout",
     "output_type": "stream",
     "text": [
      "[[-8.68376349e+00+0.j -5.60131328e+00+0.j  9.34610142e+00+0.j ...\n",
      "   7.62645725e-01+0.j -3.91271658e-01+0.j  4.47480771e-01+0.j]\n",
      " [-9.09791484e+00+0.j  2.01712253e+00+0.j  5.23998996e+00+0.j ...\n",
      "   8.30489368e-01+0.j  1.62805750e+00+0.j  9.43439445e-02+0.j]\n",
      " [ 4.01402629e+01+0.j -1.81938059e+01+0.j -7.44733592e+00+0.j ...\n",
      "   1.54980833e+00+0.j -1.75373738e-02+0.j  3.79840819e-01+0.j]\n",
      " ...\n",
      " [ 3.36663967e+01+0.j  6.91548467e+00+0.j  2.93889646e+00+0.j ...\n",
      "   1.65162263e+00+0.j -2.26837294e+00+0.j -5.47490890e-01+0.j]\n",
      " [-7.26679778e+00+0.j  3.66994226e+00+0.j  5.88215878e+00+0.j ...\n",
      "  -1.91928172e+00+0.j -1.31333746e+00+0.j -1.05577672e+00+0.j]\n",
      " [-9.36925283e+00+0.j  9.02793145e+00+0.j -3.59236321e+00+0.j ...\n",
      "   1.41718784e-01+0.j  1.16382330e+00+0.j  1.65280364e-01+0.j]]\n",
      "First 1000 PCs account for 90.89 % of the total variance!\n"
     ]
    },
    {
     "name": "stderr",
     "output_type": "stream",
     "text": [
      "/usr/local/lib/python3.6/dist-packages/ipykernel_launcher.py:30: ComplexWarning: Casting complex values to real discards the imaginary part\n"
     ]
    }
   ],
   "source": [
    "#standardise the data\n",
    "from sklearn.preprocessing import StandardScaler \n",
    "\n",
    "scaler = StandardScaler()\n",
    "Xs = scaler.fit_transform(X)\n",
    "\n",
    "#compute the covariance matrix on the standardised data\n",
    "n = X.shape[0]\n",
    "C = 1/(n-1) * np.dot(Xs.T,Xs)\n",
    "\n",
    "#eigendecompose the matrix  𝐂  into its eigenvalues and eigenvector\n",
    "import numpy.linalg as linalg\n",
    "d, V = linalg.eig(C)\n",
    "\n",
    "#sort the eigenvalues in decreasing order, re-sort the columns of the eigenvector matrix 𝑉  using the indices from the sorting of the eigenvalues\n",
    "ind = np.argsort(d)[::-1]\n",
    "d = d[ind]\n",
    "V = V[:,ind]\n",
    "\n",
    "Xr = np.dot(Xs,V[:,0:1000])\n",
    "\n",
    "#calculate how much of the total variance the PCs account for\n",
    "#ratios_variance_explained = d/d.sum()\n",
    "#va = ratios_variance_explained[0:1000].sum()\n",
    "#print(\"First 1000 PCs account for %.2f %% of the total variance!\" % (va*100))"
   ]
  },
  {
   "cell_type": "code",
   "execution_count": 11,
   "metadata": {},
   "outputs": [
    {
     "name": "stdout",
     "output_type": "stream",
     "text": [
      "Full Data:\t(1826, 1000)\n",
      "Train Data:\t(1460, 1000)\n",
      "Test Data:\t(366, 1000)\n"
     ]
    },
    {
     "name": "stderr",
     "output_type": "stream",
     "text": [
      "/usr/local/lib/python3.6/dist-packages/ipykernel_launcher.py:7: ComplexWarning: Casting complex values to real discards the imaginary part\n",
      "  import sys\n",
      "/usr/local/lib/python3.6/dist-packages/ipykernel_launcher.py:8: ComplexWarning: Casting complex values to real discards the imaginary part\n",
      "  \n"
     ]
    }
   ],
   "source": [
    "# Split into train data and test data\n",
    "\n",
    "from sklearn.model_selection import train_test_split\n",
    "\n",
    "X_train, X_test, y_train, y_test = train_test_split(Xr,y,test_size=0.2,random_state=73)\n",
    "\n",
    "X_train = X_train.astype(np.float_)\n",
    "X_test = X_test.astype(np.float_)\n",
    "y_train = y_train.astype(np.float_)\n",
    "y_test = y_test.astype(np.float_)\n",
    "\n",
    "#print(\"Full Data:\\t\" + str(Xr.shape))\n",
    "#print(\"Train Data:\\t\" + str(X_train.shape))\n",
    "#print(\"Test Data:\\t\" + str(X_test.shape))"
   ]
  },
  {
   "cell_type": "code",
   "execution_count": null,
   "metadata": {},
   "outputs": [],
   "source": [
    "#Example Support Vector Regression\n",
    "\n",
    "from sklearn.svm import SVR\n",
    "import sklearn.metrics as metrics\n",
    "\n",
    "Cs = np.arange(1,251,10)\n",
    "Gamma = [\"auto\",\"scale\"]\n",
    "Epsilon = np.arange(0.1,7.1,0.1)\n",
    "\n",
    "r2_train = []\n",
    "r2_test = []\n",
    "\n",
    "for c in Cs:\n",
    "    for g in Gamma:\n",
    "        for e in Epsilon:\n",
    "            svr_poly = SVR(C=c, gamma=g, epsilon=e)\n",
    "            svr_poly.fit(X_train, y_train) #training step, just stores data\n",
    "            svr_predictions_training = svr.predict(X_train)\n",
    "            svr_predictions_testing = svr.predict(X_test)\n",
    "            r2_training = metrics.r2_score(y_train, svr_predictions_training)\n",
    "            r2_testing = metrics.r2_score(y_test, svr_predictions_testing)\n",
    "            r2_train.append(r2_training)\n",
    "            r2_test.append(r2_testing)\n",
    "    \n",
    "best_c = Cs[np.argmax(r2_test)]\n",
    "best_g = Gamma[np.argmax(r2_test)]\n",
    "best_e = Epsilon[np.argmax(r2_test)]\n",
    "print(\"Best_c = \" + str(best_c))\n",
    "print(\"Best_g = \" + str(best_g))\n",
    "print(\"Best_e = \" + str(best_e))\n",
    "print(\"Best R2: %.4f\" %np.max(r2_test))"
   ]
  }
 ],
 "metadata": {
  "kernelspec": {
   "display_name": "Python 3",
   "language": "python",
   "name": "python3"
  },
  "language_info": {
   "codemirror_mode": {
    "name": "ipython",
    "version": 3
   },
   "file_extension": ".py",
   "mimetype": "text/x-python",
   "name": "python",
   "nbconvert_exporter": "python",
   "pygments_lexer": "ipython3",
   "version": "3.6.9"
  }
 },
 "nbformat": 4,
 "nbformat_minor": 2
}
