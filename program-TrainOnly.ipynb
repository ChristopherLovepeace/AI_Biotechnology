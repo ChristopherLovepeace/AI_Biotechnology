{
 "cells": [
  {
   "cell_type": "code",
   "execution_count": 64,
   "metadata": {},
   "outputs": [
    {
     "name": "stdout",
     "output_type": "stream",
     "text": [
      "['9597' '9143' '8967' ... '1954' '9707' '6120']\n",
      "[['G' 'G' 'G' ... '?' 'T' 'A']\n",
      " ['G' 'G' 'G' ... 'A' 'T' 'A']\n",
      " ['A' 'G' 'A' ... 'A' '?' 'A']\n",
      " ...\n",
      " ['G' 'A' 'G' ... 'T' 'T' 'A']\n",
      " ['G' 'G' 'A' ... 'A' 'T' 'A']\n",
      " ['G' 'G' 'G' ... 'A' 'T' 'C']]\n"
     ]
    }
   ],
   "source": [
    "%matplotlib inline\n",
    "import pylab as pl\n",
    "import numpy as np\n",
    "import pandas as pd\n",
    "\n",
    "#Read data\n",
    "\n",
    "X_train = []\n",
    "samples_x_train = []\n",
    "\n",
    "f = open(\"genotypes.csv\",\"r\")\n",
    "\n",
    "for i,line in enumerate(f):\n",
    "    if(i == 0):\n",
    "        continue\n",
    "    \n",
    "    sv = line.strip().split(\",\")\n",
    "    samples_x_train.append(sv[0])\n",
    "    \n",
    "    row = []\n",
    "    for element in sv[1:]:\n",
    "        row.append(element)\n",
    "    X_train.append(row)\n",
    "    \n",
    "f.close()\n",
    "\n",
    "X_train = np.array(X_train)\n",
    "samples_x_train = np.array(samples_x_train)\n",
    "\n",
    "print(samples_x_train)\n",
    "print(X_train)\n"
   ]
  },
  {
   "cell_type": "code",
   "execution_count": 65,
   "metadata": {},
   "outputs": [
    {
     "name": "stdout",
     "output_type": "stream",
     "text": [
      "['9419' '5913' '9953' '210' '1652' '1247' '9968' '6021' '7504' '8389'\n",
      " '9436' '8132' '1722' '7250' '7' '6197' '9602' '9737' '126' '9615' '9846'\n",
      " '9945' '5959' '9844' '9769' '5394' '7570' '5811' '2240' '5871' '9722'\n",
      " '895' '386' '2320' '9638' '9766' '544' '6192' '7213' '1404' '506' '338'\n",
      " '504' '9113' '7123' '7262' '9813' '4826' '7256' '5799' '9651' '7391'\n",
      " '9739' '5628' '8037' '340' '7298' '8337' '8218' '5760' '7073' '957'\n",
      " '1158' '1612' '9748' '9816' '9511' '7210' '5860' '1862' '5795' '6919'\n",
      " '9869' '60' '8608' '7524' '5202' '424' '2166' '9529' '9588' '8247' '1006'\n",
      " '7578' '5961' '9888' '10022' '9759' '9718' '5812' '203' '7347' '7413'\n",
      " '9909' '6918' '9353' '9386' '6092' '9728' '9927' '6110' '6237' '9672'\n",
      " '9007' '8237' '9749' '6427' '9827' '2057' '9717' '9991' '1829' '9772'\n",
      " '9973' '2370' '9885' '1363' '7479' '5722' '9321' '6046' '15591' '6126'\n",
      " '5159' '6241' '5856' '9828' '9567' '7217' '8' '8230' '5923' '5276' '5821'\n",
      " '6946' '9690' '7209' '148' '7343' '9391' '7078' '7079' '9860' '7438'\n",
      " '8796' '5776' '7062' '6806' '7475' '216' '9841' '9864' '6425' '5651'\n",
      " '5878' '8239' '6418' '8770' '9720' '7387' '9593' '997' '8285' '1799'\n",
      " '7327' '162' '5888' '9622' '6142' '6127' '5736' '5733' '5644' '6971'\n",
      " '6750' '9985' '6900' '9949' '9004' '9128' '8612' '104' '9454' '2283'\n",
      " '9095' '5822' '350' '10011' '9848' '9621' '383' '321' '242' '7515' '9754'\n",
      " '2202' '9385' '7328' '5253' '7317' '1744' '9812' '867']\n",
      "[['G' 'G' 'G' ... 'T' 'T' 'A']\n",
      " ['G' 'G' 'G' ... 'A' 'T' 'A']\n",
      " ['G' 'G' 'G' ... 'T' 'T' 'A']\n",
      " ...\n",
      " ['?' 'G' 'G' ... 'T' 'C' 'A']\n",
      " ['G' 'G' 'G' ... 'A' 'T' 'A']\n",
      " ['A' 'G' 'G' ... 'T' 'C' 'A']]\n"
     ]
    }
   ],
   "source": [
    "X_test = []\n",
    "samples_x_test=[]\n",
    "\n",
    "fd=open(\"unknown_genotypes.csv\",\"r\")\n",
    "\n",
    "for i, line in enumerate(fd):\n",
    "    if(i==0):\n",
    "        continue\n",
    "    sv=line.strip().split(\",\")\n",
    "    samples_x_test.append(sv[0])\n",
    "    row=[]\n",
    "    \n",
    "    for element in sv[1:]:\n",
    "        row.append(element)\n",
    "    X_test.append(row)\n",
    "    \n",
    "fd.close()\n",
    "X_test=np.array(X_test)\n",
    "samples_x_test=np.array(samples_x_test)\n",
    "print(samples_x_test)\n",
    "print(X_test)\n"
   ]
  },
  {
   "cell_type": "code",
   "execution_count": 66,
   "metadata": {},
   "outputs": [
    {
     "name": "stdout",
     "output_type": "stream",
     "text": [
      "[['G' 'G' 'G' ... 'T' 'T' 'A']\n",
      " ['G' 'G' 'G' ... 'A' 'T' 'A']\n",
      " ['G' 'G' 'G' ... 'T' 'T' 'A']\n",
      " ...\n",
      " ['nan' 'G' 'G' ... 'T' 'C' 'A']\n",
      " ['G' 'G' 'G' ... 'A' 'T' 'A']\n",
      " ['A' 'G' 'G' ... 'T' 'C' 'A']] [['G' 'G' 'G' ... 'nan' 'T' 'A']\n",
      " ['G' 'G' 'G' ... 'A' 'T' 'A']\n",
      " ['A' 'G' 'A' ... 'A' 'nan' 'A']\n",
      " ...\n",
      " ['G' 'A' 'G' ... 'T' 'T' 'A']\n",
      " ['G' 'G' 'A' ... 'A' 'T' 'A']\n",
      " ['G' 'G' 'G' ... 'A' 'T' 'C']]\n"
     ]
    }
   ],
   "source": [
    "#Replace \"?\" with np.nan\n",
    "X_train = np.where(X_train == \"?\", np.nan, X_train)\n",
    "X_test = np.where(X_test == \"?\", np.nan, X_test)\n",
    "\n",
    "print(X_test, X_train)"
   ]
  },
  {
   "cell_type": "code",
   "execution_count": 67,
   "metadata": {},
   "outputs": [
    {
     "name": "stdout",
     "output_type": "stream",
     "text": [
      "[['0' '0' '0' ... 'nan' '0' '0']\n",
      " ['0' '0' '0' ... '0' '0' '0']\n",
      " ['2' '0' '2' ... '0' 'nan' '0']\n",
      " ...\n",
      " ['0' '2' '0' ... '2' '0' '0']\n",
      " ['0' '0' '2' ... '0' '0' '0']\n",
      " ['0' '0' '0' ... '0' '0' '2']] [['0' '0' '0' ... '2' '0' '0']\n",
      " ['0' '0' '0' ... '0' '0' '0']\n",
      " ['0' '0' '0' ... '2' '0' '0']\n",
      " ...\n",
      " ['nan' '0' '0' ... '2' '2' '0']\n",
      " ['0' '0' '0' ... '0' '0' '0']\n",
      " ['2' '0' '0' ... '2' '2' '0']]\n"
     ]
    }
   ],
   "source": [
    "#Encode nucleotide values\n",
    "\n",
    "for j in range (X_train.shape[1]):\n",
    "    \n",
    "    values, counts = np.unique(X_train[:,j], return_counts=True)\n",
    "    values=values[:2]\n",
    "    counts=counts[:2]\n",
    "\n",
    "    X_train[:,j] = np.where(X_train[:,j] == values[np.argmax(counts)], 0, X_train[:,j])\n",
    "    X_train[:,j] = np.where(X_train[:,j] == values[np.argmin(counts)], 2, X_train[:,j])\n",
    "    #X_train[:,j] = np.where(X_train[:,j] == 'nan', np.nan, X_train[:,j])\n",
    "\n",
    "for j in range (X_test.shape[1]):\n",
    "    \n",
    "    values, counts = np.unique(X_test[:,j], return_counts=True)\n",
    "    values=values[:2]\n",
    "    counts=counts[:2]\n",
    "\n",
    "    X_test[:,j] = np.where(X_test[:,j] == values[np.argmax(counts)], 0, X_test[:,j])\n",
    "    X_test[:,j] = np.where(X_test[:,j] == values[np.argmin(counts)], 2, X_test[:,j])\n",
    "    #X_test[:,j] = np.where(X_test[:,j] == 'nan', np.nan, X_test[:,j])\n",
    "\n",
    "#Convert array from string to float\n",
    "#X_train = X_train.astype(np.float_)\n",
    "#X_test = X_test.astype(np.float_)\n",
    "\n",
    "print(X_train, X_test)\n",
    "    "
   ]
  },
  {
   "cell_type": "code",
   "execution_count": 69,
   "metadata": {},
   "outputs": [
    {
     "ename": "ValueError",
     "evalue": "could not convert string to float: 'G'",
     "output_type": "error",
     "traceback": [
      "\u001b[0;31m---------------------------------------------------------------------------\u001b[0m",
      "\u001b[0;31mValueError\u001b[0m                                Traceback (most recent call last)",
      "\u001b[0;32m<ipython-input-69-17a1d1e41144>\u001b[0m in \u001b[0;36m<module>\u001b[0;34m\u001b[0m\n\u001b[1;32m      1\u001b[0m \u001b[0;31m#X_train_fl = X_train.astype(np.float_)\u001b[0m\u001b[0;34m\u001b[0m\u001b[0;34m\u001b[0m\u001b[0;34m\u001b[0m\u001b[0m\n\u001b[0;32m----> 2\u001b[0;31m \u001b[0mX_test_fl\u001b[0m \u001b[0;34m=\u001b[0m \u001b[0mX_test\u001b[0m\u001b[0;34m.\u001b[0m\u001b[0mastype\u001b[0m\u001b[0;34m(\u001b[0m\u001b[0mnp\u001b[0m\u001b[0;34m.\u001b[0m\u001b[0mfloat_\u001b[0m\u001b[0;34m)\u001b[0m\u001b[0;34m\u001b[0m\u001b[0;34m\u001b[0m\u001b[0m\n\u001b[0m\u001b[1;32m      3\u001b[0m \u001b[0mprint\u001b[0m\u001b[0;34m(\u001b[0m\u001b[0mX_test_fl\u001b[0m\u001b[0;34m)\u001b[0m\u001b[0;34m\u001b[0m\u001b[0;34m\u001b[0m\u001b[0m\n\u001b[1;32m      4\u001b[0m '''\n\u001b[1;32m      5\u001b[0m \u001b[0mindex_list\u001b[0m\u001b[0;34m=\u001b[0m\u001b[0;34m[\u001b[0m\u001b[0;34m]\u001b[0m\u001b[0;34m\u001b[0m\u001b[0;34m\u001b[0m\u001b[0m\n",
      "\u001b[0;31mValueError\u001b[0m: could not convert string to float: 'G'"
     ]
    }
   ],
   "source": [
    "X_train_fl = X_train.astype(np.float_)\n",
    "X_test_fl = X_test.astype(np.float_)\n",
    "print(X_test_fl)\n",
    "'''\n",
    "index_list=[]\n",
    "for col in range(X_train.shape[1]):\n",
    "    X_train[:,col]=np.where(X_train[:,col]==\"G\",index_list.append([col]),X_train[:,col])\n",
    "print(index_list)\n",
    "'''"
   ]
  },
  {
   "cell_type": "code",
   "execution_count": 63,
   "metadata": {},
   "outputs": [
    {
     "data": {
      "text/plain": [
       "5000"
      ]
     },
     "execution_count": 63,
     "metadata": {},
     "output_type": "execute_result"
    }
   ],
   "source": [
    "len(index_list)"
   ]
  },
  {
   "cell_type": "code",
   "execution_count": 70,
   "metadata": {},
   "outputs": [
    {
     "name": "stdout",
     "output_type": "stream",
     "text": [
      "[['0' '0' '0' ... 'nan' '0' '0']\n",
      " ['0' '0' '0' ... '0' '0' '0']\n",
      " ['2' '0' '2' ... '0' 'nan' '0']\n",
      " ...\n",
      " ['0' '2' '0' ... '2' '0' '0']\n",
      " ['0' '0' '2' ... '0' '0' '0']\n",
      " ['0' '0' '0' ... '0' '0' '2']] [['0' '0' '0' ... '2' '0' '0']\n",
      " ['0' '0' '0' ... '0' '0' '0']\n",
      " ['0' '0' '0' ... '2' '0' '0']\n",
      " ...\n",
      " ['nan' '0' '0' ... '2' '2' '0']\n",
      " ['0' '0' '0' ... '0' '0' '0']\n",
      " ['2' '0' '0' ... '2' '2' '0']]\n"
     ]
    }
   ],
   "source": [
    "print(X_train, X_test)\n"
   ]
  },
  {
   "cell_type": "code",
   "execution_count": 15,
   "metadata": {},
   "outputs": [
    {
     "name": "stdout",
     "output_type": "stream",
     "text": [
      "No Samples:\t\t 1826\n",
      "No Features:\t\t 5000\n"
     ]
    },
    {
     "ename": "TypeError",
     "evalue": "ufunc 'isnan' not supported for the input types, and the inputs could not be safely coerced to any supported types according to the casting rule ''safe''",
     "output_type": "error",
     "traceback": [
      "\u001b[0;31m---------------------------------------------------------------------------\u001b[0m",
      "\u001b[0;31mTypeError\u001b[0m                                 Traceback (most recent call last)",
      "\u001b[0;32m<ipython-input-15-4b6cce02f729>\u001b[0m in \u001b[0;36m<module>\u001b[0;34m\u001b[0m\n\u001b[1;32m      4\u001b[0m \u001b[0mprint\u001b[0m\u001b[0;34m(\u001b[0m\u001b[0;34m\"No Features:\\t\\t %d\"\u001b[0m \u001b[0;34m%\u001b[0m \u001b[0mX_train\u001b[0m\u001b[0;34m.\u001b[0m\u001b[0mshape\u001b[0m\u001b[0;34m[\u001b[0m\u001b[0;36m1\u001b[0m\u001b[0;34m]\u001b[0m\u001b[0;34m)\u001b[0m\u001b[0;34m\u001b[0m\u001b[0;34m\u001b[0m\u001b[0m\n\u001b[1;32m      5\u001b[0m \u001b[0;34m\u001b[0m\u001b[0m\n\u001b[0;32m----> 6\u001b[0;31m \u001b[0mmissing_train\u001b[0m \u001b[0;34m=\u001b[0m \u001b[0;34m(\u001b[0m\u001b[0;34m(\u001b[0m\u001b[0mnp\u001b[0m\u001b[0;34m.\u001b[0m\u001b[0misnan\u001b[0m\u001b[0;34m(\u001b[0m\u001b[0mX_train\u001b[0m\u001b[0;34m)\u001b[0m\u001b[0;34m)\u001b[0m\u001b[0;34m.\u001b[0m\u001b[0msum\u001b[0m\u001b[0;34m(\u001b[0m\u001b[0;34m)\u001b[0m\u001b[0;34m/\u001b[0m\u001b[0mX_train\u001b[0m\u001b[0;34m.\u001b[0m\u001b[0msize\u001b[0m\u001b[0;34m*\u001b[0m\u001b[0;36m100\u001b[0m\u001b[0;34m)\u001b[0m\u001b[0;34m\u001b[0m\u001b[0;34m\u001b[0m\u001b[0m\n\u001b[0m\u001b[1;32m      7\u001b[0m \u001b[0mprint\u001b[0m\u001b[0;34m(\u001b[0m\u001b[0;34m\"X_train Missing Values:\\t\\t %.2f%%\"\u001b[0m \u001b[0;34m%\u001b[0m \u001b[0mmissing\u001b[0m\u001b[0;34m)\u001b[0m\u001b[0;34m\u001b[0m\u001b[0;34m\u001b[0m\u001b[0m\n\u001b[1;32m      8\u001b[0m \u001b[0;34m\u001b[0m\u001b[0m\n",
      "\u001b[0;31mTypeError\u001b[0m: ufunc 'isnan' not supported for the input types, and the inputs could not be safely coerced to any supported types according to the casting rule ''safe''"
     ]
    }
   ],
   "source": [
    "# General analysis data:\n",
    "\n",
    "print(\"No Samples:\\t\\t %d\" % X_train.shape[0])\n",
    "print(\"No Features:\\t\\t %d\" % X_train.shape[1])\n",
    "\n",
    "missing_train = ((np.isnan(X_train)).sum()/X_train.size*100)\n",
    "print(\"X_train Missing Values:\\t\\t %.2f%%\" % missing)\n",
    "\n",
    "missing_test = ((np.isnan(X_test)).sum()/X_test.size*100)\n",
    "print(\"X_test Missing Values:\\t\\t %.2f%%\" % missing)"
   ]
  },
  {
   "cell_type": "code",
   "execution_count": 8,
   "metadata": {},
   "outputs": [
    {
     "name": "stdout",
     "output_type": "stream",
     "text": [
      "All samples have less than 50 % missing values\n"
     ]
    }
   ],
   "source": [
    "# Assess missing values per sample\n",
    "\n",
    "\n",
    "sample_indices_to_remove = []\n",
    "for i in range(X.shape[0]):\n",
    "    missing = np.isnan(X[i,:]).sum()/X.shape[1]*100\n",
    "    if missing>50:\n",
    "        print(\"Sample %d has %.2f missing values\" % (i,missing))\n",
    "        sample_indices_to_remove.append(i)\n",
    "\n",
    "if (len(sample_indices_to_remove) == 0):\n",
    "    print(\"All samples have less than 50 % missing values\")"
   ]
  },
  {
   "cell_type": "code",
   "execution_count": 9,
   "metadata": {},
   "outputs": [
    {
     "name": "stdout",
     "output_type": "stream",
     "text": [
      "['9608' '9801' '9647' ... '9894' '6200' '9917']\n",
      "[53.43 58.81 53.57 ... 53.68 54.62 53.35]\n"
     ]
    }
   ],
   "source": [
    "# Read phenotype values\n",
    "\n",
    "y = []\n",
    "samples_y = []\n",
    "\n",
    "f = open(\"phenotype_values.csv\",\"r\")\n",
    "\n",
    "for i,line in enumerate(f):\n",
    "    if(i == 0):\n",
    "       continue\n",
    "    sv = line.strip().split(\",\")\n",
    "    samples_y.append(sv[0])\n",
    "    y.append(float(sv[1]))\n",
    "    \n",
    "f.close()\n",
    "\n",
    "y = np.array(y)\n",
    "samples_y = np.array(samples_y)\n",
    "\n",
    "print (samples_y)\n",
    "print (y)"
   ]
  },
  {
   "cell_type": "code",
   "execution_count": 10,
   "metadata": {},
   "outputs": [
    {
     "name": "stdout",
     "output_type": "stream",
     "text": [
      "No Samples X:\t\t1826\n",
      "No Samples y:\t\t1826\n",
      "Samples correct order:\tTrue\n"
     ]
    }
   ],
   "source": [
    "# Match genotypes with phenotype values\n",
    "truth_table = (samples_x[:,np.newaxis]==samples_y)\n",
    "ind = np.where(truth_table==True)\n",
    "\n",
    "samples_x = samples_x[ind[0]]\n",
    "samples_y = samples_y[ind[1]]\n",
    "\n",
    "X = X[ind[0],:]\n",
    "y = y[ind[1]]\n",
    "\n",
    "print(\"No Samples X:\\t\\t%d\" % X.shape[0])\n",
    "print(\"No Samples y:\\t\\t%d\" % y.shape[0])\n",
    "\n",
    "print(\"Samples correct order:\\t\" + str(np.any(samples_x==samples_y)))\n"
   ]
  },
  {
   "cell_type": "code",
   "execution_count": 19,
   "metadata": {},
   "outputs": [
    {
     "ename": "ValueError",
     "evalue": "SimpleImputer does not support data with dtype <U32. Please provide either a numeric array (with a floating point or integer dtype) or categorical data represented either as an array with integer dtype or an array of string values with an object dtype.",
     "output_type": "error",
     "traceback": [
      "\u001b[0;31m---------------------------------------------------------------------------\u001b[0m",
      "\u001b[0;31mValueError\u001b[0m                                Traceback (most recent call last)",
      "\u001b[0;32m<ipython-input-19-cb2bb31446b7>\u001b[0m in \u001b[0;36m<module>\u001b[0;34m\u001b[0m\n\u001b[1;32m      4\u001b[0m \u001b[0;34m\u001b[0m\u001b[0m\n\u001b[1;32m      5\u001b[0m \u001b[0mimputer\u001b[0m \u001b[0;34m=\u001b[0m \u001b[0mSimpleImputer\u001b[0m\u001b[0;34m(\u001b[0m\u001b[0mstrategy\u001b[0m\u001b[0;34m=\u001b[0m\u001b[0;34m\"most_frequent\"\u001b[0m\u001b[0;34m)\u001b[0m\u001b[0;34m\u001b[0m\u001b[0;34m\u001b[0m\u001b[0m\n\u001b[0;32m----> 6\u001b[0;31m \u001b[0mX_train\u001b[0m \u001b[0;34m=\u001b[0m \u001b[0mimputer\u001b[0m\u001b[0;34m.\u001b[0m\u001b[0mfit_transform\u001b[0m\u001b[0;34m(\u001b[0m\u001b[0mX_train\u001b[0m\u001b[0;34m)\u001b[0m\u001b[0;34m\u001b[0m\u001b[0;34m\u001b[0m\u001b[0m\n\u001b[0m\u001b[1;32m      7\u001b[0m \u001b[0mX_test\u001b[0m \u001b[0;34m=\u001b[0m \u001b[0mimputer\u001b[0m\u001b[0;34m.\u001b[0m\u001b[0mfit_transform\u001b[0m\u001b[0;34m(\u001b[0m\u001b[0mX_test\u001b[0m\u001b[0;34m)\u001b[0m\u001b[0;34m\u001b[0m\u001b[0;34m\u001b[0m\u001b[0m\n\u001b[1;32m      8\u001b[0m \u001b[0;34m\u001b[0m\u001b[0m\n",
      "\u001b[0;32m/usr/local/lib/python3.6/dist-packages/sklearn/base.py\u001b[0m in \u001b[0;36mfit_transform\u001b[0;34m(self, X, y, **fit_params)\u001b[0m\n\u001b[1;32m    688\u001b[0m         \u001b[0;32mif\u001b[0m \u001b[0my\u001b[0m \u001b[0;32mis\u001b[0m \u001b[0;32mNone\u001b[0m\u001b[0;34m:\u001b[0m\u001b[0;34m\u001b[0m\u001b[0;34m\u001b[0m\u001b[0m\n\u001b[1;32m    689\u001b[0m             \u001b[0;31m# fit method of arity 1 (unsupervised transformation)\u001b[0m\u001b[0;34m\u001b[0m\u001b[0;34m\u001b[0m\u001b[0;34m\u001b[0m\u001b[0m\n\u001b[0;32m--> 690\u001b[0;31m             \u001b[0;32mreturn\u001b[0m \u001b[0mself\u001b[0m\u001b[0;34m.\u001b[0m\u001b[0mfit\u001b[0m\u001b[0;34m(\u001b[0m\u001b[0mX\u001b[0m\u001b[0;34m,\u001b[0m \u001b[0;34m**\u001b[0m\u001b[0mfit_params\u001b[0m\u001b[0;34m)\u001b[0m\u001b[0;34m.\u001b[0m\u001b[0mtransform\u001b[0m\u001b[0;34m(\u001b[0m\u001b[0mX\u001b[0m\u001b[0;34m)\u001b[0m\u001b[0;34m\u001b[0m\u001b[0;34m\u001b[0m\u001b[0m\n\u001b[0m\u001b[1;32m    691\u001b[0m         \u001b[0;32melse\u001b[0m\u001b[0;34m:\u001b[0m\u001b[0;34m\u001b[0m\u001b[0;34m\u001b[0m\u001b[0m\n\u001b[1;32m    692\u001b[0m             \u001b[0;31m# fit method of arity 2 (supervised transformation)\u001b[0m\u001b[0;34m\u001b[0m\u001b[0;34m\u001b[0m\u001b[0;34m\u001b[0m\u001b[0m\n",
      "\u001b[0;32m/usr/local/lib/python3.6/dist-packages/sklearn/impute/_base.py\u001b[0m in \u001b[0;36mfit\u001b[0;34m(self, X, y)\u001b[0m\n\u001b[1;32m    275\u001b[0m         \u001b[0mself\u001b[0m \u001b[0;34m:\u001b[0m \u001b[0mSimpleImputer\u001b[0m\u001b[0;34m\u001b[0m\u001b[0;34m\u001b[0m\u001b[0m\n\u001b[1;32m    276\u001b[0m         \"\"\"\n\u001b[0;32m--> 277\u001b[0;31m         \u001b[0mX\u001b[0m \u001b[0;34m=\u001b[0m \u001b[0mself\u001b[0m\u001b[0;34m.\u001b[0m\u001b[0m_validate_input\u001b[0m\u001b[0;34m(\u001b[0m\u001b[0mX\u001b[0m\u001b[0;34m,\u001b[0m \u001b[0min_fit\u001b[0m\u001b[0;34m=\u001b[0m\u001b[0;32mTrue\u001b[0m\u001b[0;34m)\u001b[0m\u001b[0;34m\u001b[0m\u001b[0;34m\u001b[0m\u001b[0m\n\u001b[0m\u001b[1;32m    278\u001b[0m         \u001b[0msuper\u001b[0m\u001b[0;34m(\u001b[0m\u001b[0;34m)\u001b[0m\u001b[0;34m.\u001b[0m\u001b[0m_fit_indicator\u001b[0m\u001b[0;34m(\u001b[0m\u001b[0mX\u001b[0m\u001b[0;34m)\u001b[0m\u001b[0;34m\u001b[0m\u001b[0;34m\u001b[0m\u001b[0m\n\u001b[1;32m    279\u001b[0m \u001b[0;34m\u001b[0m\u001b[0m\n",
      "\u001b[0;32m/usr/local/lib/python3.6/dist-packages/sklearn/impute/_base.py\u001b[0m in \u001b[0;36m_validate_input\u001b[0;34m(self, X, in_fit)\u001b[0m\n\u001b[1;32m    258\u001b[0m                              \u001b[0;34m\"categorical data represented either as an array \"\u001b[0m\u001b[0;34m\u001b[0m\u001b[0;34m\u001b[0m\u001b[0m\n\u001b[1;32m    259\u001b[0m                              \u001b[0;34m\"with integer dtype or an array of string values \"\u001b[0m\u001b[0;34m\u001b[0m\u001b[0;34m\u001b[0m\u001b[0m\n\u001b[0;32m--> 260\u001b[0;31m                              \"with an object dtype.\".format(X.dtype))\n\u001b[0m\u001b[1;32m    261\u001b[0m \u001b[0;34m\u001b[0m\u001b[0m\n\u001b[1;32m    262\u001b[0m         \u001b[0;32mreturn\u001b[0m \u001b[0mX\u001b[0m\u001b[0;34m\u001b[0m\u001b[0;34m\u001b[0m\u001b[0m\n",
      "\u001b[0;31mValueError\u001b[0m: SimpleImputer does not support data with dtype <U32. Please provide either a numeric array (with a floating point or integer dtype) or categorical data represented either as an array with integer dtype or an array of string values with an object dtype."
     ]
    }
   ],
   "source": [
    "# Impute missing values on training data\n",
    "\n",
    "from sklearn.impute import SimpleImputer\n",
    "\n",
    "imputer = SimpleImputer(strategy=\"most_frequent\")\n",
    "X_train = imputer.fit_transform(X_train) \n",
    "X_test = imputer.fit_transform(X_test) \n",
    "\n",
    "print(X_train)\n"
   ]
  },
  {
   "cell_type": "code",
   "execution_count": 35,
   "metadata": {},
   "outputs": [
    {
     "name": "stdout",
     "output_type": "stream",
     "text": [
      "MSE (Train):\t2.80\n",
      "R2 (Train):\t0.74\n",
      "MSE (Test):\t4.50\n",
      "R2 (Test):\t0.49\n"
     ]
    }
   ],
   "source": [
    "'''\n",
    "from sklearn import linear_model\n",
    "model2=linear_model.Ridge(alpha=5000)\n",
    "model2.fit(X_train, y_train)\n",
    "predictions_training = model2.predict(X_train)\n",
    "predictions_testing = model2.predict(X_test)\n",
    "\n",
    "print(\"MSE (Train):\\t%.2f\" % metrics.mean_squared_error(y_train, predictions_training))\n",
    "print(\"R2 (Train):\\t%.2f\" % metrics.r2_score(y_train, predictions_training))\n",
    "print(\"MSE (Test):\\t%.2f\" % metrics.mean_squared_error(y_test, predictions_testing))\n",
    "print(\"R2 (Test):\\t%.2f\" % metrics.r2_score(y_test, predictions_testing))\n",
    "'''"
   ]
  },
  {
   "cell_type": "code",
   "execution_count": 75,
   "metadata": {},
   "outputs": [
    {
     "name": "stdout",
     "output_type": "stream",
     "text": [
      "MSE (Train):\t7.30\n",
      "R2 (Train):\t0.32\n",
      "MSE (Test):\t6.60\n",
      "R2 (Test):\t0.25\n"
     ]
    }
   ],
   "source": [
    "from sklearn import linear_model\n",
    "\n",
    "\n",
    "\n",
    "model3=linear_model.ElasticNet(alpha=0.13135893963030046,l1_ratio=0.09,max_iter=7000)\n",
    "model3.fit(X_train, y_train)\n",
    "predictions_training = model3.predict(X_train)\n",
    "predictions_testing = model3.predict(X_test)\n",
    "\n",
    "print(\"MSE (Train):\\t%.2f\" % metrics.mean_squared_error(y_train, predictions_training))\n",
    "print(\"EV (Train):\\t %.2f\" %metrics.explained_variance_score(y_train,predictions_training))\n",
    "print(\"MAE (Train):\\t %.2f\" %metrics.mean_absolute_error(y_train, predictions_training))\n",
    "print(\"R2 (Train):\\t%.2f\" % metrics.r2_score(y_train, predictions_training))\n",
    "\n",
    "print(\"MSE (Test):\\t%.2f\" % metrics.mean_squared_error(y_test, predictions_testing))\n",
    "print(\"EV (Test): \\t %.2f\" %metrics.explained_variance_score(y_test,predictions_testing))\n",
    "print(\"MAE (Test):\\t %.2f\" %metrics.mean_absolute_error(y_test, predictions_testing))\n",
    "print(\"R2 (Test):\\t%.2f\" % metrics.r2_score(y_test, predictions_testing))\n",
    "\n"
   ]
  },
  {
   "cell_type": "code",
   "execution_count": 76,
   "metadata": {},
   "outputs": [
    {
     "name": "stdout",
     "output_type": "stream",
     "text": [
      "53.91969494760732 5000 [ 0.         -0.         -0.          0.         -0.          0.\n",
      "  0.         -0.         -0.          0.          0.         -0.\n",
      " -0.         -0.         -0.         -0.         -0.         -0.\n",
      "  0.          0.         -0.          0.         -0.         -0.\n",
      " -0.          0.         -0.          0.          0.          0.\n",
      " -0.          0.          0.          0.         -0.          0.\n",
      " -0.          0.          0.         -0.         -0.          0.\n",
      " -0.          0.         -0.         -0.         -0.         -0.\n",
      "  0.         -0.          0.          0.         -0.          0.\n",
      " -0.         -0.         -0.          0.         -0.          0.\n",
      " -0.          0.         -0.         -0.         -0.         -0.\n",
      " -0.          0.         -0.         -0.         -0.          0.\n",
      " -0.         -0.          0.         -0.          0.          0.\n",
      "  0.          0.         -0.         -0.         -0.         -0.\n",
      "  0.         -0.         -0.          0.         -0.         -0.\n",
      " -0.         -0.          0.         -0.         -0.         -0.\n",
      "  0.         -0.          0.         -0.          0.          0.\n",
      "  0.         -0.          0.          0.         -0.          0.\n",
      " -0.          0.          0.          0.         -0.         -0.\n",
      "  0.          0.          0.         -0.          0.          0.\n",
      "  0.         -0.         -0.         -0.          0.          0.\n",
      "  0.         ... -0.         -0.          0.         -0.\n",
      "  0.          0.          0.          0.          0.         -0.\n",
      "  0.06198914 -0.         -0.         -0.          0.         -0.\n",
      "  0.          0.          0.          0.          0.          0.\n",
      "  0.         -0.          0.         -0.          0.         -0.\n",
      " -0.         -0.          0.          0.         -0.          0.\n",
      "  0.          0.          0.         -0.         -0.          0.\n",
      "  0.         -0.         -0.         -0.         -0.          0.\n",
      " -0.         -0.          0.         -0.         -0.          0.\n",
      " -0.         -0.          0.          0.         -0.         -0.\n",
      "  0.          0.         -0.         -0.          0.         -0.\n",
      "  0.          0.         -0.         -0.         -0.         -0.\n",
      " -0.          0.         -0.         -0.         -0.          0.\n",
      " -0.         -0.          0.         -0.         -0.          0.\n",
      " -0.          0.         -0.          0.         -0.          0.09053577\n",
      "  0.          0.          0.          0.         -0.         -0.\n",
      "  0.         -0.          0.          0.         -0.          0.\n",
      "  0.         -0.          0.         -0.          0.          0.\n",
      " -0.         -0.          0.          0.         -0.          0.\n",
      "  0.         -0.          0.         -0.         -0.          0.\n",
      "  0.         -0.          0.         -0.         -0.         -0.\n",
      "  0.          0.         -0.        ]\n"
     ]
    }
   ],
   "source": [
    "#np.set_printoptions(edgeitems=127)\n",
    "#print(model1.intercept_,model1.coef_)\n",
    "#print(model2.intercept_,model2.coef_)\n",
    "print(model3.intercept_,model3.coef_.size,model3.coef_)"
   ]
  },
  {
   "cell_type": "code",
   "execution_count": 18,
   "metadata": {},
   "outputs": [
    {
     "ename": "NameError",
     "evalue": "name 'model3' is not defined",
     "output_type": "error",
     "traceback": [
      "\u001b[0;31m---------------------------------------------------------------------------\u001b[0m",
      "\u001b[0;31mNameError\u001b[0m                                 Traceback (most recent call last)",
      "\u001b[0;32m<ipython-input-18-3255a5ebcef3>\u001b[0m in \u001b[0;36m<module>\u001b[0;34m\u001b[0m\n\u001b[1;32m      1\u001b[0m \u001b[0;32mfrom\u001b[0m \u001b[0msklearn\u001b[0m\u001b[0;34m.\u001b[0m\u001b[0mmodel_selection\u001b[0m \u001b[0;32mimport\u001b[0m \u001b[0mcross_val_score\u001b[0m\u001b[0;34m\u001b[0m\u001b[0;34m\u001b[0m\u001b[0m\n\u001b[1;32m      2\u001b[0m \u001b[0;34m\u001b[0m\u001b[0m\n\u001b[0;32m----> 3\u001b[0;31m \u001b[0mprint\u001b[0m\u001b[0;34m(\u001b[0m\u001b[0mcross_val_score\u001b[0m\u001b[0;34m(\u001b[0m\u001b[0mmodel3\u001b[0m\u001b[0;34m,\u001b[0m \u001b[0mx\u001b[0m\u001b[0;34m,\u001b[0m \u001b[0my\u001b[0m\u001b[0;34m,\u001b[0m \u001b[0mcv\u001b[0m\u001b[0;34m=\u001b[0m\u001b[0;36m10\u001b[0m\u001b[0;34m,\u001b[0m \u001b[0mscoring\u001b[0m\u001b[0;34m=\u001b[0m\u001b[0;34m\"explained_variance\"\u001b[0m\u001b[0;34m)\u001b[0m\u001b[0;34m.\u001b[0m\u001b[0mmean\u001b[0m\u001b[0;34m(\u001b[0m\u001b[0;34m)\u001b[0m\u001b[0;34m)\u001b[0m\u001b[0;34m\u001b[0m\u001b[0;34m\u001b[0m\u001b[0m\n\u001b[0m",
      "\u001b[0;31mNameError\u001b[0m: name 'model3' is not defined"
     ]
    }
   ],
   "source": [
    "from sklearn.model_selection import cross_val_score\n",
    "\n",
    "print(cross_val_score(model3, x, y, cv=10, scoring=\"explained_variance\").mean())"
   ]
  },
  {
   "cell_type": "code",
   "execution_count": null,
   "metadata": {},
   "outputs": [],
   "source": []
  }
 ],
 "metadata": {
  "kernelspec": {
   "display_name": "Python 3",
   "language": "python",
   "name": "python3"
  },
  "language_info": {
   "codemirror_mode": {
    "name": "ipython",
    "version": 3
   },
   "file_extension": ".py",
   "mimetype": "text/x-python",
   "name": "python",
   "nbconvert_exporter": "python",
   "pygments_lexer": "ipython3",
   "version": "3.6.9"
  },
  "vscode": {
   "interpreter": {
    "hash": "610a6f344c2137faf927ea819c63f6cee33a2c04455044b28099f39fe9722347"
   }
  }
 },
 "nbformat": 4,
 "nbformat_minor": 2
}
