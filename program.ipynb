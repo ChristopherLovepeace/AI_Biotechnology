{
 "cells": [
  {
   "cell_type": "code",
   "execution_count": 1,
   "metadata": {},
   "outputs": [
    {
     "name": "stdout",
     "output_type": "stream",
     "text": [
      "['9597' '9143' '8967' ... '1954' '9707' '6120']\n",
      "[['G' 'G' 'G' ... '?' 'T' 'A']\n",
      " ['G' 'G' 'G' ... 'A' 'T' 'A']\n",
      " ['A' 'G' 'A' ... 'A' '?' 'A']\n",
      " ...\n",
      " ['G' 'A' 'G' ... 'T' 'T' 'A']\n",
      " ['G' 'G' 'A' ... 'A' 'T' 'A']\n",
      " ['G' 'G' 'G' ... 'A' 'T' 'C']]\n"
     ]
    }
   ],
   "source": [
    "%matplotlib inline\n",
    "import pylab as pl\n",
    "import numpy as np\n",
    "import pandas as pd\n",
    "\n",
    "#Read data\n",
    "\n",
    "X = []\n",
    "samples_x = []\n",
    "\n",
    "f = open(\"genotypes.csv\",\"r\")\n",
    "\n",
    "for i,line in enumerate(f):\n",
    "    if(i == 0):\n",
    "       continue\n",
    "    \n",
    "    sv = line.strip().split(\",\")\n",
    "    samples_x.append(sv[0])\n",
    "    \n",
    "    row = []\n",
    "    for element in sv[1:]:\n",
    "        row.append(element)\n",
    "    X.append(row)\n",
    "    \n",
    "f.close()\n",
    "\n",
    "X = np.array(X)\n",
    "samples_x = np.array(samples_x)\n",
    "\n",
    "print(samples_x)\n",
    "print(X)\n"
   ]
  },
  {
   "cell_type": "code",
   "execution_count": 2,
   "metadata": {},
   "outputs": [
    {
     "name": "stdout",
     "output_type": "stream",
     "text": [
      "[['G' 'G' 'G' ... 'nan' 'T' 'A']\n",
      " ['G' 'G' 'G' ... 'A' 'T' 'A']\n",
      " ['A' 'G' 'A' ... 'A' 'nan' 'A']\n",
      " ...\n",
      " ['G' 'A' 'G' ... 'T' 'T' 'A']\n",
      " ['G' 'G' 'A' ... 'A' 'T' 'A']\n",
      " ['G' 'G' 'G' ... 'A' 'T' 'C']]\n"
     ]
    }
   ],
   "source": [
    "#Replace \"?\" with np.nan\n",
    "\n",
    "X = np.where(X == \"?\", np.nan, X)\n",
    "\n",
    "print(X)"
   ]
  },
  {
   "cell_type": "code",
   "execution_count": 3,
   "metadata": {},
   "outputs": [
    {
     "name": "stdout",
     "output_type": "stream",
     "text": [
      "[[ 0.  0.  0. ... nan  0.  0.]\n",
      " [ 0.  0.  0. ...  0.  0.  0.]\n",
      " [ 2.  0.  2. ...  0. nan  0.]\n",
      " ...\n",
      " [ 0.  2.  0. ...  2.  0.  0.]\n",
      " [ 0.  0.  2. ...  0.  0.  0.]\n",
      " [ 0.  0.  0. ...  0.  0.  2.]]\n"
     ]
    }
   ],
   "source": [
    "#Encode nucleotide values\n",
    "\n",
    "for j in range (X.shape[1]):\n",
    "    \n",
    "    values, counts = np.unique(X[:,j], return_counts=True)\n",
    "    values=values[:2]\n",
    "    counts=counts[:2]\n",
    "\n",
    "    #print(values[np.argmax(counts)])\n",
    "    #print(values[np.argmin(counts)])\n",
    "\n",
    "    X[:,j] = np.where(X[:,j] == values[np.argmax(counts)], 0.0, X[:,j])\n",
    "    X[:,j] = np.where(X[:,j] == values[np.argmin(counts)], 2.0, X[:,j])\n",
    "\n",
    "#Convert array from string to float\n",
    "X = X.astype(np.float_)\n",
    "\n",
    "print(X)\n",
    "    "
   ]
  },
  {
   "cell_type": "code",
   "execution_count": 4,
   "metadata": {},
   "outputs": [
    {
     "name": "stdout",
     "output_type": "stream",
     "text": [
      "No Samples:\t\t 1826\n",
      "No Features:\t\t 5000\n",
      "Missing Values:\t\t 10.00%\n"
     ]
    }
   ],
   "source": [
    "# General analysis data:\n",
    "\n",
    "print(\"No Samples:\\t\\t %d\" % X.shape[0])\n",
    "print(\"No Features:\\t\\t %d\" % X.shape[1])\n",
    "\n",
    "missing = ((np.isnan(X)).sum()/X.size*100)\n",
    "print(\"Missing Values:\\t\\t %.2f%%\" % missing)"
   ]
  },
  {
   "cell_type": "code",
   "execution_count": 5,
   "metadata": {},
   "outputs": [
    {
     "name": "stdout",
     "output_type": "stream",
     "text": [
      "All samples have less than 50 % missing values\n"
     ]
    }
   ],
   "source": [
    "# Assess missing values per sample\n",
    "\n",
    "\n",
    "sample_indices_to_remove = []\n",
    "for i in range(X.shape[0]):\n",
    "    missing = np.isnan(X[i,:]).sum()/X.shape[1]*100\n",
    "    if missing>50:\n",
    "        print(\"Sample %d has %.2f missing values\" % (i,missing))\n",
    "        sample_indices_to_remove.append(i)\n",
    "\n",
    "if (len(sample_indices_to_remove) == 0):\n",
    "    print(\"All samples have less than 50 % missing values\")"
   ]
  },
  {
   "cell_type": "code",
   "execution_count": 7,
   "metadata": {},
   "outputs": [
    {
     "name": "stdout",
     "output_type": "stream",
     "text": [
      "['9608' '9801' '9647' ... '9894' '6200' '9917']\n",
      "[53.43 58.81 53.57 ... 53.68 54.62 53.35]\n"
     ]
    }
   ],
   "source": [
    "# Read phenotype values\n",
    "\n",
    "y = []\n",
    "samples_y = []\n",
    "\n",
    "f = open(\"phenotype_values.csv\",\"r\")\n",
    "\n",
    "for i,line in enumerate(f):\n",
    "    if(i == 0):\n",
    "       continue\n",
    "    sv = line.strip().split(\",\")\n",
    "    samples_y.append(sv[0])\n",
    "    y.append(float(sv[1]))\n",
    "    \n",
    "f.close()\n",
    "\n",
    "y = np.array(y)\n",
    "samples_y = np.array(samples_y)\n",
    "\n",
    "print (samples_y)\n",
    "print (y)"
   ]
  },
  {
   "cell_type": "code",
   "execution_count": 8,
   "metadata": {},
   "outputs": [
    {
     "name": "stdout",
     "output_type": "stream",
     "text": [
      "No Samples X:\t\t1826\n",
      "No Samples y:\t\t1826\n",
      "Samples correct order:\tTrue\n"
     ]
    }
   ],
   "source": [
    "# Match genotypes with phenotype values\n",
    "truth_table = (samples_x[:,np.newaxis]==samples_y)\n",
    "ind = np.where(truth_table==True)\n",
    "\n",
    "samples_x = samples_x[ind[0]]\n",
    "samples_y = samples_y[ind[1]]\n",
    "\n",
    "X = X[ind[0],:]\n",
    "y = y[ind[1]]\n",
    "\n",
    "print(\"No Samples X:\\t\\t%d\" % X.shape[0])\n",
    "print(\"No Samples y:\\t\\t%d\" % y.shape[0])\n",
    "\n",
    "print(\"Samples correct order:\\t\" + str(np.any(samples_x==samples_y)))\n"
   ]
  },
  {
   "cell_type": "code",
   "execution_count": 9,
   "metadata": {},
   "outputs": [
    {
     "name": "stdout",
     "output_type": "stream",
     "text": [
      "Full Data:\t(1826, 5000)\n",
      "Train Data:\t(1460, 5000)\n",
      "Test Data:\t(366, 5000)\n"
     ]
    }
   ],
   "source": [
    "# Split into train data and test data\n",
    "\n",
    "from sklearn.model_selection import train_test_split\n",
    "\n",
    "X_train, X_test, y_train, y_test = train_test_split(X,y,test_size=0.2, random_state=73)\n",
    "\n",
    "print(\"Full Data:\\t\" + str(X.shape))\n",
    "print(\"Train Data:\\t\" + str(X_train.shape))\n",
    "print(\"Test Data:\\t\" + str(X_test.shape))\n",
    "\n"
   ]
  },
  {
   "cell_type": "code",
   "execution_count": 10,
   "metadata": {},
   "outputs": [
    {
     "name": "stdout",
     "output_type": "stream",
     "text": [
      "[[0. 0. 0. ... 0. 2. 0.]\n",
      " [0. 0. 0. ... 0. 0. 0.]\n",
      " [2. 0. 0. ... 0. 0. 0.]\n",
      " ...\n",
      " [0. 0. 0. ... 0. 0. 0.]\n",
      " [0. 0. 2. ... 0. 0. 2.]\n",
      " [0. 0. 0. ... 0. 0. 2.]]\n"
     ]
    }
   ],
   "source": [
    "# Impute missing values on training data\n",
    "\n",
    "from sklearn.impute import SimpleImputer\n",
    "\n",
    "imputer = SimpleImputer(strategy=\"most_frequent\")\n",
    "X_train = imputer.fit_transform(X_train) \n",
    "X_test = imputer.fit_transform(X_test) \n",
    "\n",
    "print(X_train)\n"
   ]
  },
  {
   "cell_type": "code",
   "execution_count": 11,
   "metadata": {},
   "outputs": [
    {
     "name": "stdout",
     "output_type": "stream",
     "text": [
      "MSE (Train):\t0.00\n",
      "R2 (Train):\t1.00\n",
      "MSE (Test):\t4.50\n",
      "R2 (Test):\t0.55\n"
     ]
    }
   ],
   "source": [
    "# Linear Regression\n",
    "\n",
    "import sklearn.metrics as metrics\n",
    "from sklearn import linear_model\n",
    "\n",
    "\n",
    "model1 = linear_model.LinearRegression()\n",
    "model1.fit(X_train, y_train)\n",
    "predictions_training = model1.predict(X_train)\n",
    "predictions_testing = model1.predict(X_test)\n",
    "\n",
    "print(\"MSE (Train):\\t%.2f\" % metrics.mean_squared_error(y_train, predictions_training))\n",
    "print(\"R2 (Train):\\t%.2f\" % metrics.r2_score(y_train, predictions_training))\n",
    "print(\"MSE (Test):\\t%.2f\" % metrics.mean_squared_error(y_test, predictions_testing))\n",
    "print(\"R2 (Test):\\t%.2f\" % metrics.r2_score(y_test, predictions_testing))"
   ]
  },
  {
   "cell_type": "code",
   "execution_count": 12,
   "metadata": {},
   "outputs": [
    {
     "name": "stdout",
     "output_type": "stream",
     "text": [
      "MSE (Train):\t2.79\n",
      "R2 (Train):\t0.73\n",
      "MSE (Test):\t4.63\n",
      "R2 (Test):\t0.54\n"
     ]
    }
   ],
   "source": [
    "from sklearn import linear_model\n",
    "model2=linear_model.Ridge(alpha=5000)\n",
    "model2.fit(X_train, y_train)\n",
    "predictions_training = model2.predict(X_train)\n",
    "predictions_testing = model2.predict(X_test)\n",
    "\n",
    "print(\"MSE (Train):\\t%.2f\" % metrics.mean_squared_error(y_train, predictions_training))\n",
    "print(\"R2 (Train):\\t%.2f\" % metrics.r2_score(y_train, predictions_training))\n",
    "print(\"MSE (Test):\\t%.2f\" % metrics.mean_squared_error(y_test, predictions_testing))\n",
    "print(\"R2 (Test):\\t%.2f\" % metrics.r2_score(y_test, predictions_testing))"
   ]
  },
  {
   "cell_type": "code",
   "execution_count": 52,
   "metadata": {},
   "outputs": [
    {
     "name": "stdout",
     "output_type": "stream",
     "text": [
      "MSE (Train):\t0.65\n",
      "R2 (Train):\t0.94\n",
      "MAE (Train):\t 0.63\n",
      "MSE (Test):\t3.78\n",
      "R2 (Test):\t0.62\n",
      "MAE (Test):\t 1.54\n"
     ]
    }
   ],
   "source": [
    "from sklearn import linear_model\n",
    "model3=linear_model.ElasticNet(alpha=0.13135893963030046,l1_ratio=0.09,max_iter=7000)\n",
    "model3.fit(X_train, y_train)\n",
    "predictions_training = model3.predict(X_train)\n",
    "predictions_testing = model3.predict(X_test)\n",
    "\n",
    "print(\"MSE (Train):\\t%.2f\" % metrics.mean_squared_error(y_train, predictions_training))\n",
    "print(\"R2 (Train):\\t%.2f\" % metrics.r2_score(y_train, predictions_training))\n",
    "print(\"MAE (Train):\\t %.2f\" %metrics.mean_absolute_error(y_train, predictions_training))\n",
    "print(\"MSE (Test):\\t%.2f\" % metrics.mean_squared_error(y_test, predictions_testing))\n",
    "print(\"R2 (Test):\\t%.2f\" % metrics.r2_score(y_test, predictions_testing))\n",
    "print(\"MAE (Test):\\t %.2f\" %metrics.mean_absolute_error(y_test, predictions_testing))"
   ]
  },
  {
   "cell_type": "code",
   "execution_count": 49,
   "metadata": {},
   "outputs": [
    {
     "name": "stdout",
     "output_type": "stream",
     "text": [
      "MSE (Train):\t0.65\n",
      "R2 (Train):\t0.94\n",
      "MSE (Test):\t3.78\n",
      "R2 (Test):\t0.62\n"
     ]
    },
    {
     "name": "stderr",
     "output_type": "stream",
     "text": [
      "/usr/local/lib/python3.6/dist-packages/sklearn/linear_model/_coordinate_descent.py:531: ConvergenceWarning: Objective did not converge. You might want to increase the number of iterations. Duality gap: 8.092902628845536, tolerance: 1.5191063916712328\n",
      "  positive)\n"
     ]
    }
   ],
   "source": [
    "#ELASTIC NET WITH CROSS VALIDATION\n",
    "from sklearn import linear_model\n",
    "l1_ratio_list=np.arange(0.01,0.1,0.01)\n",
    "model4=linear_model.ElasticNetCV(cv=5,l1_ratio=l1_ratio_list,max_iter=5000,random_state=73)\n",
    "model4.fit(X_train, y_train)\n",
    "predictions_training = model4.predict(X_train)\n",
    "predictions_testing = model4.predict(X_test)\n",
    "\n",
    "print(\"MSE (Train):\\t%.2f\" % metrics.mean_squared_error(y_train, predictions_training))\n",
    "print(\"R2 (Train):\\t%.2f\" % metrics.r2_score(y_train, predictions_training))\n",
    "print(\"MSE (Test):\\t%.2f\" % metrics.mean_squared_error(y_test, predictions_testing))\n",
    "print(\"R2 (Test):\\t%.2f\" % metrics.r2_score(y_test, predictions_testing))\n"
   ]
  },
  {
   "cell_type": "code",
   "execution_count": 50,
   "metadata": {},
   "outputs": [
    {
     "name": "stdout",
     "output_type": "stream",
     "text": [
      "0.13135893963030046 0.09 [ 0.00000000e+00 -1.96800824e-02  3.10391780e-03 -0.00000000e+00\n",
      "  3.50625518e-02 -0.00000000e+00  2.95573053e-02  2.52422158e-02\n",
      "  0.00000000e+00 -6.09974299e-03 -0.00000000e+00 -0.00000000e+00\n",
      "  0.00000000e+00  0.00000000e+00  0.00000000e+00 -0.00000000e+00\n",
      " -0.00000000e+00 -0.00000000e+00  0.00000000e+00  0.00000000e+00\n",
      "  0.00000000e+00  0.00000000e+00 -0.00000000e+00 -0.00000000e+00\n",
      " -0.00000000e+00  2.38444955e-02 -0.00000000e+00  1.27350776e-02\n",
      " -4.58944540e-03  1.71756911e-02 -3.45962960e-02  1.77333474e-02\n",
      " -0.00000000e+00  1.89492038e-02  0.00000000e+00 -0.00000000e+00\n",
      "  3.39287454e-03  3.14433223e-03 -0.00000000e+00  0.00000000e+00\n",
      " -0.00000000e+00 -0.00000000e+00  3.71415452e-02  9.23278437e-02\n",
      "  0.00000000e+00  1.01567566e-01 -0.00000000e+00 -0.00000000e+00\n",
      " -0.00000000e+00  0.00000000e+00  0.00000000e+00  1.73721087e-02\n",
      " -6.04289066e-02  7.95711242e-03 -0.00000000e+00 -0.00000000e+00\n",
      " -0.00000000e+00  0.00000000e+00  0.00000000e+00 -3.93477383e-03\n",
      "  0.00000000e+00 -0.00000000e+00 -0.00000000e+00 -5.31211639e-02\n",
      " -0.00000000e+00 -8.05208212e-04 -3.32260364e-02  0.00000000e+00\n",
      " -0.00000000e+00 -0.00000000e+00  1.69544656e-02 -0.00000000e+00\n",
      " -1.82111465e-02 -7.03136717e-02 -0.00000000e+00 -0.00000000e+00\n",
      " -2.32895582e-02  5.98307750e-02  0.00000000e+00  4.43239587e-02\n",
      " -0.00000000e+00 -0.00000000e+00 -0.00000000e+00 -0.00000000e+00\n",
      " -0.00000000e+00 -0.00000000e+00 -0.00000000e+00  1.43478031e-02\n",
      "  1.49651889e-03 -0.00000000e+00 -7.77302243e-02 -0.00000000e+00\n",
      " -0.00000000e+00 -0.00000000e+00  0.00000000e+00  0.00000000e+00\n",
      " -0.00000000e+00  0.00000000e+00 -4.94684717e-03  0.00000000e+00\n",
      "  5.94690299e-03  0.00000000e+00  0.00000000e+00 -0.00000000e+00\n",
      "  3.81158697e-03  0.00000000e+00 -8.14676251e-02  0.00000000e+00\n",
      "  0.00000000e+00  0.00000000e+00  0.00000000e+00 -0.00000000e+00\n",
      "  0.00000000e+00 -1.51748598e-02  6.75113084e-02  2.17987254e-02\n",
      "  0.00000000e+00  0.00000000e+00 -0.00000000e+00  0.00000000e+00\n",
      " -0.00000000e+00 -0.00000000e+00 -1.55241445e-02 -0.00000000e+00\n",
      "  1.05362378e-03  2.69673473e-02  2.80078272e-02 ...  0.00000000e+00\n",
      " -2.26119602e-03  0.00000000e+00 -0.00000000e+00 -3.94592412e-02\n",
      " -0.00000000e+00  4.47197865e-02 -0.00000000e+00  0.00000000e+00\n",
      " -2.39446905e-02  1.02977572e-01  0.00000000e+00  0.00000000e+00\n",
      " -1.62476077e-02  0.00000000e+00  0.00000000e+00  2.22346143e-02\n",
      "  3.72892725e-02 -3.66080125e-02  0.00000000e+00  0.00000000e+00\n",
      "  0.00000000e+00  4.87077022e-02  4.11789020e-03  5.35488620e-02\n",
      "  0.00000000e+00 -0.00000000e+00  0.00000000e+00 -3.64251506e-02\n",
      " -0.00000000e+00  0.00000000e+00 -0.00000000e+00  0.00000000e+00\n",
      " -0.00000000e+00  0.00000000e+00  0.00000000e+00  0.00000000e+00\n",
      " -5.75920566e-02  4.25736470e-02 -0.00000000e+00  0.00000000e+00\n",
      " -2.94644898e-02 -0.00000000e+00  0.00000000e+00 -0.00000000e+00\n",
      " -0.00000000e+00  0.00000000e+00 -0.00000000e+00  4.65744349e-02\n",
      "  0.00000000e+00 -0.00000000e+00  7.01373492e-02 -0.00000000e+00\n",
      " -0.00000000e+00 -0.00000000e+00 -0.00000000e+00  1.33390836e-02\n",
      " -0.00000000e+00  2.76114311e-01  0.00000000e+00  0.00000000e+00\n",
      " -0.00000000e+00  0.00000000e+00 -2.80094122e-02  5.43989259e-02\n",
      " -0.00000000e+00 -0.00000000e+00 -0.00000000e+00  0.00000000e+00\n",
      " -0.00000000e+00  0.00000000e+00  4.71692830e-02 -0.00000000e+00\n",
      "  1.84395547e-03  0.00000000e+00  0.00000000e+00 -2.68571575e-02\n",
      " -0.00000000e+00 -0.00000000e+00 -0.00000000e+00  0.00000000e+00\n",
      "  3.52694339e-02  0.00000000e+00  0.00000000e+00  0.00000000e+00\n",
      "  0.00000000e+00  8.00670812e-05  3.45680644e-02  9.08215738e-03\n",
      " -0.00000000e+00 -0.00000000e+00  6.13581101e-02  0.00000000e+00\n",
      " -0.00000000e+00  0.00000000e+00 -3.90780626e-03  0.00000000e+00\n",
      " -0.00000000e+00  0.00000000e+00  0.00000000e+00 -0.00000000e+00\n",
      " -3.59421652e-02  0.00000000e+00  0.00000000e+00 -0.00000000e+00\n",
      "  2.31014125e-02 -0.00000000e+00  0.00000000e+00  0.00000000e+00\n",
      " -0.00000000e+00 -0.00000000e+00 -0.00000000e+00  1.06468304e-02\n",
      "  1.96968543e-02 -0.00000000e+00 -3.92147978e-02  1.50066934e-02\n",
      "  5.96114079e-02  0.00000000e+00 -0.00000000e+00  2.59086996e-02\n",
      " -9.42558443e-03  0.00000000e+00 -6.83355722e-02  2.98140495e-02\n",
      "  0.00000000e+00 -9.70769036e-02] 51.94138084221841\n"
     ]
    }
   ],
   "source": [
    "print(model4.alpha_, model4.l1_ratio_, model4.coef_,model4.intercept_)\n"
   ]
  },
  {
   "cell_type": "code",
   "execution_count": 51,
   "metadata": {},
   "outputs": [
    {
     "name": "stdout",
     "output_type": "stream",
     "text": [
      "51.94138084221841 1498 [ 0.00000000e+00 -1.96800824e-02  3.10391780e-03 -0.00000000e+00\n",
      "  3.50625518e-02 -0.00000000e+00  2.95573053e-02  2.52422158e-02\n",
      "  0.00000000e+00 -6.09974299e-03 -0.00000000e+00 -0.00000000e+00\n",
      "  0.00000000e+00  0.00000000e+00  0.00000000e+00 -0.00000000e+00\n",
      " -0.00000000e+00 -0.00000000e+00  0.00000000e+00  0.00000000e+00\n",
      "  0.00000000e+00  0.00000000e+00 -0.00000000e+00 -0.00000000e+00\n",
      " -0.00000000e+00  2.38444955e-02 -0.00000000e+00  1.27350776e-02\n",
      " -4.58944540e-03  1.71756911e-02 -3.45962960e-02  1.77333474e-02\n",
      " -0.00000000e+00  1.89492038e-02  0.00000000e+00 -0.00000000e+00\n",
      "  3.39287454e-03  3.14433223e-03 -0.00000000e+00  0.00000000e+00\n",
      " -0.00000000e+00 -0.00000000e+00  3.71415452e-02  9.23278437e-02\n",
      "  0.00000000e+00  1.01567566e-01 -0.00000000e+00 -0.00000000e+00\n",
      " -0.00000000e+00  0.00000000e+00  0.00000000e+00  1.73721087e-02\n",
      " -6.04289066e-02  7.95711242e-03 -0.00000000e+00 -0.00000000e+00\n",
      " -0.00000000e+00  0.00000000e+00  0.00000000e+00 -3.93477383e-03\n",
      "  0.00000000e+00 -0.00000000e+00 -0.00000000e+00 -5.31211639e-02\n",
      " -0.00000000e+00 -8.05208212e-04 -3.32260364e-02  0.00000000e+00\n",
      " -0.00000000e+00 -0.00000000e+00  1.69544656e-02 -0.00000000e+00\n",
      " -1.82111465e-02 -7.03136717e-02 -0.00000000e+00 -0.00000000e+00\n",
      " -2.32895582e-02  5.98307750e-02  0.00000000e+00  4.43239587e-02\n",
      " -0.00000000e+00 -0.00000000e+00 -0.00000000e+00 -0.00000000e+00\n",
      " -0.00000000e+00 -0.00000000e+00 -0.00000000e+00  1.43478031e-02\n",
      "  1.49651889e-03 -0.00000000e+00 -7.77302243e-02 -0.00000000e+00\n",
      " -0.00000000e+00 -0.00000000e+00  0.00000000e+00  0.00000000e+00\n",
      " -0.00000000e+00  0.00000000e+00 -4.94684717e-03  0.00000000e+00\n",
      "  5.94690299e-03  0.00000000e+00  0.00000000e+00 -0.00000000e+00\n",
      "  3.81158697e-03  0.00000000e+00 -8.14676251e-02  0.00000000e+00\n",
      "  0.00000000e+00  0.00000000e+00  0.00000000e+00 -0.00000000e+00\n",
      "  0.00000000e+00 -1.51748598e-02  6.75113084e-02  2.17987254e-02\n",
      "  0.00000000e+00  0.00000000e+00 -0.00000000e+00  0.00000000e+00\n",
      " -0.00000000e+00 -0.00000000e+00 -1.55241445e-02 -0.00000000e+00\n",
      "  1.05362378e-03  2.69673473e-02  2.80078272e-02 ...  0.00000000e+00\n",
      " -2.26119602e-03  0.00000000e+00 -0.00000000e+00 -3.94592412e-02\n",
      " -0.00000000e+00  4.47197865e-02 -0.00000000e+00  0.00000000e+00\n",
      " -2.39446905e-02  1.02977572e-01  0.00000000e+00  0.00000000e+00\n",
      " -1.62476077e-02  0.00000000e+00  0.00000000e+00  2.22346143e-02\n",
      "  3.72892725e-02 -3.66080125e-02  0.00000000e+00  0.00000000e+00\n",
      "  0.00000000e+00  4.87077022e-02  4.11789020e-03  5.35488620e-02\n",
      "  0.00000000e+00 -0.00000000e+00  0.00000000e+00 -3.64251506e-02\n",
      " -0.00000000e+00  0.00000000e+00 -0.00000000e+00  0.00000000e+00\n",
      " -0.00000000e+00  0.00000000e+00  0.00000000e+00  0.00000000e+00\n",
      " -5.75920566e-02  4.25736470e-02 -0.00000000e+00  0.00000000e+00\n",
      " -2.94644898e-02 -0.00000000e+00  0.00000000e+00 -0.00000000e+00\n",
      " -0.00000000e+00  0.00000000e+00 -0.00000000e+00  4.65744349e-02\n",
      "  0.00000000e+00 -0.00000000e+00  7.01373492e-02 -0.00000000e+00\n",
      " -0.00000000e+00 -0.00000000e+00 -0.00000000e+00  1.33390836e-02\n",
      " -0.00000000e+00  2.76114311e-01  0.00000000e+00  0.00000000e+00\n",
      " -0.00000000e+00  0.00000000e+00 -2.80094122e-02  5.43989259e-02\n",
      " -0.00000000e+00 -0.00000000e+00 -0.00000000e+00  0.00000000e+00\n",
      " -0.00000000e+00  0.00000000e+00  4.71692830e-02 -0.00000000e+00\n",
      "  1.84395547e-03  0.00000000e+00  0.00000000e+00 -2.68571575e-02\n",
      " -0.00000000e+00 -0.00000000e+00 -0.00000000e+00  0.00000000e+00\n",
      "  3.52694339e-02  0.00000000e+00  0.00000000e+00  0.00000000e+00\n",
      "  0.00000000e+00  8.00670812e-05  3.45680644e-02  9.08215738e-03\n",
      " -0.00000000e+00 -0.00000000e+00  6.13581101e-02  0.00000000e+00\n",
      " -0.00000000e+00  0.00000000e+00 -3.90780626e-03  0.00000000e+00\n",
      " -0.00000000e+00  0.00000000e+00  0.00000000e+00 -0.00000000e+00\n",
      " -3.59421652e-02  0.00000000e+00  0.00000000e+00 -0.00000000e+00\n",
      "  2.31014125e-02 -0.00000000e+00  0.00000000e+00  0.00000000e+00\n",
      " -0.00000000e+00 -0.00000000e+00 -0.00000000e+00  1.06468304e-02\n",
      "  1.96968543e-02 -0.00000000e+00 -3.92147978e-02  1.50066934e-02\n",
      "  5.96114079e-02  0.00000000e+00 -0.00000000e+00  2.59086996e-02\n",
      " -9.42558443e-03  0.00000000e+00 -6.83355722e-02  2.98140495e-02\n",
      "  0.00000000e+00 -9.70769036e-02]\n"
     ]
    }
   ],
   "source": [
    "np.set_printoptions(edgeitems=127)\n",
    "#print(model1.intercept_,model1.coef_)\n",
    "#print(model2.intercept_,model2.coef_)\n",
    "#print(model3.intercept_,model3.coef_[model3.coef_!=0.].size,model3.coef_)\n",
    "print(model4.intercept_,model4.coef_[model3.coef_!=0.].size,model4.coef_)"
   ]
  },
  {
   "cell_type": "code",
   "execution_count": null,
   "metadata": {},
   "outputs": [],
   "source": []
  }
 ],
 "metadata": {
  "kernelspec": {
   "display_name": "Python 3",
   "language": "python",
   "name": "python3"
  },
  "language_info": {
   "codemirror_mode": {
    "name": "ipython",
    "version": 3
   },
   "file_extension": ".py",
   "mimetype": "text/x-python",
   "name": "python",
   "nbconvert_exporter": "python",
   "pygments_lexer": "ipython3",
   "version": "3.6.9"
  },
  "vscode": {
   "interpreter": {
    "hash": "610a6f344c2137faf927ea819c63f6cee33a2c04455044b28099f39fe9722347"
   }
  }
 },
 "nbformat": 4,
 "nbformat_minor": 2
}
