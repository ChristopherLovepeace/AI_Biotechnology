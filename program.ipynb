{
 "cells": [
  {
   "cell_type": "code",
   "execution_count": 26,
   "metadata": {},
   "outputs": [
    {
     "name": "stdout",
     "output_type": "stream",
     "text": [
      "['9597' '9143' '8967' ... '1954' '9707' '6120']\n",
      "[['G' 'G' 'G' ... '?' 'T' 'A']\n",
      " ['G' 'G' 'G' ... 'A' 'T' 'A']\n",
      " ['A' 'G' 'A' ... 'A' '?' 'A']\n",
      " ...\n",
      " ['G' 'A' 'G' ... 'T' 'T' 'A']\n",
      " ['G' 'G' 'A' ... 'A' 'T' 'A']\n",
      " ['G' 'G' 'G' ... 'A' 'T' 'C']]\n"
     ]
    }
   ],
   "source": [
    "%matplotlib inline\n",
    "import pylab as pl\n",
    "import numpy as np\n",
    "import pandas as pd\n",
    "\n",
    "#Read data\n",
    "\n",
    "X = []\n",
    "samples_x = []\n",
    "\n",
    "f = open(\"genotypes.csv\",\"r\")\n",
    "\n",
    "for i,line in enumerate(f):\n",
    "    if(i == 0):\n",
    "       continue\n",
    "    \n",
    "    sv = line.strip().split(\",\")\n",
    "    samples_x.append(sv[0])\n",
    "    \n",
    "    row = []\n",
    "    for element in sv[1:]:\n",
    "        row.append(element)\n",
    "    X.append(row)\n",
    "    \n",
    "f.close()\n",
    "\n",
    "X = np.array(X)\n",
    "samples_x = np.array(samples_x)\n",
    "\n",
    "print(samples_x)\n",
    "print(X)\n"
   ]
  },
  {
   "cell_type": "code",
   "execution_count": 27,
   "metadata": {},
   "outputs": [
    {
     "name": "stdout",
     "output_type": "stream",
     "text": [
      "[['G' 'G' 'G' ... 'nan' 'T' 'A']\n",
      " ['G' 'G' 'G' ... 'A' 'T' 'A']\n",
      " ['A' 'G' 'A' ... 'A' 'nan' 'A']\n",
      " ...\n",
      " ['G' 'A' 'G' ... 'T' 'T' 'A']\n",
      " ['G' 'G' 'A' ... 'A' 'T' 'A']\n",
      " ['G' 'G' 'G' ... 'A' 'T' 'C']]\n"
     ]
    }
   ],
   "source": [
    "#Replace \"?\" with np.nan\n",
    "\n",
    "X = np.where(X == \"?\", np.nan, X)\n",
    "\n",
    "print(X)"
   ]
  },
  {
   "cell_type": "code",
   "execution_count": 28,
   "metadata": {},
   "outputs": [
    {
     "name": "stdout",
     "output_type": "stream",
     "text": [
      "[[ 0.  0.  0. ... nan  0.  0.]\n",
      " [ 0.  0.  0. ...  0.  0.  0.]\n",
      " [ 2.  0.  2. ...  0. nan  0.]\n",
      " ...\n",
      " [ 0.  2.  0. ...  2.  0.  0.]\n",
      " [ 0.  0.  2. ...  0.  0.  0.]\n",
      " [ 0.  0.  0. ...  0.  0.  2.]]\n"
     ]
    }
   ],
   "source": [
    "#Encode nucleotide values\n",
    "\n",
    "for j in range (X.shape[1]):\n",
    "    \n",
    "    values, counts = np.unique(X[:,j], return_counts=True)\n",
    "    values=values[0:2]\n",
    "    counts=counts[0:2]\n",
    "\n",
    "    #print(values[np.argmax(counts)])\n",
    "    #print(values[np.argmin(counts)])\n",
    "    #print(values, counts)\n",
    "\n",
    "    X[:,j] = np.where(X[:,j] == values[np.argmax(counts)], 0.0, X[:,j])\n",
    "    X[:,j] = np.where(X[:,j] == values[np.argmin(counts)], 2.0, X[:,j])\n",
    "\n",
    "#Convert array from string to float\n",
    "X = X.astype(np.float_)\n",
    "\n",
    "print(X)\n",
    "    "
   ]
  },
  {
   "cell_type": "code",
   "execution_count": 29,
   "metadata": {},
   "outputs": [
    {
     "name": "stdout",
     "output_type": "stream",
     "text": [
      "No Samples:\t\t 1826\n",
      "No Features:\t\t 5000\n",
      "Missing Values:\t\t 10.00%\n"
     ]
    }
   ],
   "source": [
    "# General analysis data:\n",
    "\n",
    "print(\"No Samples:\\t\\t %d\" % X.shape[0])\n",
    "print(\"No Features:\\t\\t %d\" % X.shape[1])\n",
    "\n",
    "missing = ((np.isnan(X)).sum()/X.size*100)\n",
    "print(\"Missing Values:\\t\\t %.2f%%\" % missing)"
   ]
  },
  {
   "cell_type": "code",
   "execution_count": 30,
   "metadata": {},
   "outputs": [
    {
     "name": "stdout",
     "output_type": "stream",
     "text": [
      "All samples have less than 50 %% missing values\n"
     ]
    }
   ],
   "source": [
    "# Assess missing values per sample\n",
    "\n",
    "\n",
    "sample_indices_to_remove = []\n",
    "for i in range(X.shape[0]):\n",
    "    missing = np.isnan(X[i,:]).sum()/X.shape[1]*100\n",
    "    if missing>50:\n",
    "        print(\"Sample %d has %.2f missing values\" % (i,missing))\n",
    "        sample_indices_to_remove.append(i)\n",
    "\n",
    "if (len(sample_indices_to_remove) == 0):\n",
    "    print(\"All samples have less than 50 % missing values\")"
   ]
  },
  {
   "cell_type": "code",
   "execution_count": 31,
   "metadata": {},
   "outputs": [
    {
     "name": "stdout",
     "output_type": "stream",
     "text": [
      "['9608' '9801' '9647' ... '9894' '6200' '9917']\n",
      "[53.43 58.81 53.57 ... 53.68 54.62 53.35]\n"
     ]
    }
   ],
   "source": [
    "# Read phenotype values\n",
    "\n",
    "y = []\n",
    "samples_y = []\n",
    "\n",
    "f = open(\"phenotype_values.csv\",\"r\")\n",
    "\n",
    "for i,line in enumerate(f):\n",
    "    if(i == 0):\n",
    "       continue\n",
    "    sv = line.strip().split(\",\")\n",
    "    samples_y.append(sv[0])\n",
    "    y.append(float(sv[1]))\n",
    "    \n",
    "f.close()\n",
    "\n",
    "y = np.array(y)\n",
    "samples_y = np.array(samples_y)\n",
    "\n",
    "print (samples_y)\n",
    "print (y)"
   ]
  },
  {
   "cell_type": "code",
   "execution_count": 32,
   "metadata": {},
   "outputs": [
    {
     "name": "stdout",
     "output_type": "stream",
     "text": [
      "No Samples X:\t\t1826\n",
      "No Samples y:\t\t1826\n",
      "Samples correct order:\tTrue\n"
     ]
    }
   ],
   "source": [
    "# Match genotypes with phenotype values\n",
    "truth_table = (samples_x[:,np.newaxis]==samples_y)\n",
    "ind = np.where(truth_table==True)\n",
    "\n",
    "samples_x = samples_x[ind[0]]\n",
    "samples_y = samples_y[ind[1]]\n",
    "\n",
    "X = X[ind[0],:]\n",
    "y = y[ind[1]]\n",
    "\n",
    "print(\"No Samples X:\\t\\t%d\" % X.shape[0])\n",
    "print(\"No Samples y:\\t\\t%d\" % y.shape[0])\n",
    "\n",
    "print(\"Samples correct order:\\t\" + str(np.any(samples_x==samples_y)))\n"
   ]
  },
  {
   "cell_type": "code",
   "execution_count": 33,
   "metadata": {},
   "outputs": [
    {
     "name": "stdout",
     "output_type": "stream",
     "text": [
      "Full Data:\t(1826, 5000)\n",
      "Train Data:\t(1460, 5000)\n",
      "Test Data:\t(366, 5000)\n"
     ]
    }
   ],
   "source": [
    "# Split into train data and test data\n",
    "\n",
    "from sklearn.model_selection import train_test_split\n",
    "\n",
    "X_train, X_test, y_train, y_test = train_test_split(X,y,test_size=0.2)\n",
    "\n",
    "print(\"Full Data:\\t\" + str(X.shape))\n",
    "print(\"Train Data:\\t\" + str(X_train.shape))\n",
    "print(\"Test Data:\\t\" + str(X_test.shape))\n",
    "\n"
   ]
  },
  {
   "cell_type": "code",
   "execution_count": 38,
   "metadata": {},
   "outputs": [
    {
     "name": "stdout",
     "output_type": "stream",
     "text": [
      "[[0. 0. 0. ... 0. 0. 0.]\n",
      " [0. 0. 0. ... 0. 2. 0.]\n",
      " [2. 0. 0. ... 2. 2. 0.]\n",
      " ...\n",
      " [0. 0. 0. ... 2. 0. 0.]\n",
      " [0. 0. 0. ... 0. 0. 0.]\n",
      " [0. 0. 2. ... 0. 0. 0.]]\n"
     ]
    }
   ],
   "source": [
    "# Impute missing values on training data\n",
    "\n",
    "from sklearn.impute import SimpleImputer\n",
    "\n",
    "imputer = SimpleImputer(strategy=\"most_frequent\")\n",
    "\n",
    "X_train = imputer.fit_transform(X_train) \n",
    "\n",
    "print(X_train)\n"
   ]
  },
  {
   "cell_type": "code",
   "execution_count": 35,
   "metadata": {},
   "outputs": [
    {
     "name": "stdout",
     "output_type": "stream",
     "text": [
      "[[0. 0. 0. ... 0. 0. 0.]\n",
      " [2. 0. 2. ... 2. 0. 2.]\n",
      " [0. 0. 0. ... 0. 0. 0.]\n",
      " ...\n",
      " [0. 0. 0. ... 0. 0. 0.]\n",
      " [0. 0. 0. ... 0. 0. 0.]\n",
      " [0. 2. 2. ... 0. 0. 0.]]\n"
     ]
    }
   ],
   "source": [
    "# Impute missing values on test data based on training data\n",
    "\n",
    "X_test = imputer.transform(X_test)\n",
    "X_test = imputer.transform(X_test)\n",
    "\n",
    "print(X_test)"
   ]
  },
  {
   "cell_type": "code",
   "execution_count": 36,
   "metadata": {},
   "outputs": [
    {
     "name": "stdout",
     "output_type": "stream",
     "text": [
      "MSE (Train):\t0.00\n",
      "R2 (Train):\t1.00\n",
      "MSE (Test):\t5.28\n",
      "R2 (Test):\t0.54\n"
     ]
    }
   ],
   "source": [
    "# Linear Regression\n",
    "\n",
    "import sklearn.metrics as metrics\n",
    "from sklearn.linear_model import LinearRegression\n",
    "\n",
    "lr = LinearRegression()\n",
    "lr.fit(X_train, y_train)\n",
    "predictions_training = lr.predict(X_train)\n",
    "predictions_testing = lr.predict(X_test)\n",
    "\n",
    "print(\"MSE (Train):\\t%.2f\" % metrics.mean_squared_error(y_train, predictions_training))\n",
    "print(\"R2 (Train):\\t%.2f\" % metrics.r2_score(y_train, predictions_training))\n",
    "print(\"MSE (Test):\\t%.2f\" % metrics.mean_squared_error(y_test, predictions_testing))\n",
    "print(\"R2 (Test):\\t%.2f\" % metrics.r2_score(y_test, predictions_testing))"
   ]
  }
 ],
 "metadata": {
  "kernelspec": {
   "display_name": "Python 3.9.12 ('base')",
   "language": "python",
   "name": "python3"
  },
  "language_info": {
   "codemirror_mode": {
    "name": "ipython",
    "version": 3
   },
   "file_extension": ".py",
   "mimetype": "text/x-python",
   "name": "python",
   "nbconvert_exporter": "python",
   "pygments_lexer": "ipython3",
   "version": "3.9.12"
  },
  "orig_nbformat": 4,
  "vscode": {
   "interpreter": {
    "hash": "610a6f344c2137faf927ea819c63f6cee33a2c04455044b28099f39fe9722347"
   }
  }
 },
 "nbformat": 4,
 "nbformat_minor": 2
}
