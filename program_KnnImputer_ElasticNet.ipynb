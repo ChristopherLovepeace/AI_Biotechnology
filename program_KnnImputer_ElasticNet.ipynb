{
 "cells": [
  {
   "cell_type": "code",
   "execution_count": 2,
   "metadata": {},
   "outputs": [
    {
     "name": "stdout",
     "output_type": "stream",
     "text": [
      "['9597' '9143' '8967' ... '1954' '9707' '6120']\n",
      "[['G' 'G' 'G' ... '?' 'T' 'A']\n",
      " ['G' 'G' 'G' ... 'A' 'T' 'A']\n",
      " ['A' 'G' 'A' ... 'A' '?' 'A']\n",
      " ...\n",
      " ['G' 'A' 'G' ... 'T' 'T' 'A']\n",
      " ['G' 'G' 'A' ... 'A' 'T' 'A']\n",
      " ['G' 'G' 'G' ... 'A' 'T' 'C']]\n"
     ]
    }
   ],
   "source": [
    "%matplotlib inline\n",
    "import pylab as pl\n",
    "import numpy as np\n",
    "import pandas as pd\n",
    "\n",
    "#Read data\n",
    "\n",
    "X = []\n",
    "samples_x = []\n",
    "\n",
    "f = open(\"genotypes.csv\",\"r\")\n",
    "\n",
    "for i,line in enumerate(f):\n",
    "    if(i == 0):\n",
    "       continue\n",
    "    \n",
    "    sv = line.strip().split(\",\")\n",
    "    samples_x.append(sv[0])\n",
    "    \n",
    "    row = []\n",
    "    for element in sv[1:]:\n",
    "        row.append(element)\n",
    "    X.append(row)\n",
    "    \n",
    "f.close()\n",
    "\n",
    "X = np.array(X)\n",
    "samples_x = np.array(samples_x)\n",
    "\n",
    "print(samples_x)\n",
    "print(X)\n"
   ]
  },
  {
   "cell_type": "code",
   "execution_count": 3,
   "metadata": {},
   "outputs": [
    {
     "name": "stdout",
     "output_type": "stream",
     "text": [
      "[['G' 'G' 'G' ... 'nan' 'T' 'A']\n",
      " ['G' 'G' 'G' ... 'A' 'T' 'A']\n",
      " ['A' 'G' 'A' ... 'A' 'nan' 'A']\n",
      " ...\n",
      " ['G' 'A' 'G' ... 'T' 'T' 'A']\n",
      " ['G' 'G' 'A' ... 'A' 'T' 'A']\n",
      " ['G' 'G' 'G' ... 'A' 'T' 'C']]\n"
     ]
    }
   ],
   "source": [
    "#Replace \"?\" with np.nan\n",
    "\n",
    "X = np.where(X == \"?\", np.nan, X)\n",
    "\n",
    "print(X)"
   ]
  },
  {
   "cell_type": "code",
   "execution_count": 4,
   "metadata": {},
   "outputs": [
    {
     "name": "stdout",
     "output_type": "stream",
     "text": [
      "[[ 0.  0.  0. ... nan  0.  0.]\n",
      " [ 0.  0.  0. ...  0.  0.  0.]\n",
      " [ 2.  0.  2. ...  0. nan  0.]\n",
      " ...\n",
      " [ 0.  2.  0. ...  2.  0.  0.]\n",
      " [ 0.  0.  2. ...  0.  0.  0.]\n",
      " [ 0.  0.  0. ...  0.  0.  2.]]\n"
     ]
    }
   ],
   "source": [
    "#Encode nucleotide values\n",
    "\n",
    "for j in range (X.shape[1]):\n",
    "    \n",
    "    values, counts = np.unique(X[:,j], return_counts=True)\n",
    "    values=values[:2]\n",
    "    counts=counts[:2]\n",
    "\n",
    "    #print(values[np.argmax(counts)])\n",
    "    #print(values[np.argmin(counts)])\n",
    "\n",
    "    X[:,j] = np.where(X[:,j] == values[np.argmax(counts)], 0.0, X[:,j])\n",
    "    X[:,j] = np.where(X[:,j] == values[np.argmin(counts)], 2.0, X[:,j])\n",
    "\n",
    "#Convert array from string to float\n",
    "X = X.astype(np.float_)\n",
    "\n",
    "print(X)\n",
    "    "
   ]
  },
  {
   "cell_type": "code",
   "execution_count": 5,
   "metadata": {},
   "outputs": [
    {
     "name": "stdout",
     "output_type": "stream",
     "text": [
      "No Samples:\t\t 1826\n",
      "No Features:\t\t 5000\n",
      "Missing Values:\t\t 10.00%\n"
     ]
    }
   ],
   "source": [
    "# General analysis data:\n",
    "\n",
    "print(\"No Samples:\\t\\t %d\" % X.shape[0])\n",
    "print(\"No Features:\\t\\t %d\" % X.shape[1])\n",
    "\n",
    "missing = ((np.isnan(X)).sum()/X.size*100)\n",
    "print(\"Missing Values:\\t\\t %.2f%%\" % missing)"
   ]
  },
  {
   "cell_type": "code",
   "execution_count": 6,
   "metadata": {},
   "outputs": [
    {
     "name": "stdout",
     "output_type": "stream",
     "text": [
      "All samples have less than 50 % missing values\n"
     ]
    }
   ],
   "source": [
    "# Assess missing values per sample\n",
    "\n",
    "\n",
    "sample_indices_to_remove = []\n",
    "for i in range(X.shape[0]):\n",
    "    missing = np.isnan(X[i,:]).sum()/X.shape[1]*100\n",
    "    if missing>50:\n",
    "        print(\"Sample %d has %.2f missing values\" % (i,missing))\n",
    "        sample_indices_to_remove.append(i)\n",
    "\n",
    "if (len(sample_indices_to_remove) == 0):\n",
    "    print(\"All samples have less than 50 % missing values\")"
   ]
  },
  {
   "cell_type": "code",
   "execution_count": 7,
   "metadata": {},
   "outputs": [
    {
     "name": "stdout",
     "output_type": "stream",
     "text": [
      "['9608' '9801' '9647' ... '9894' '6200' '9917']\n",
      "[53.43 58.81 53.57 ... 53.68 54.62 53.35]\n"
     ]
    }
   ],
   "source": [
    "# Read phenotype values\n",
    "\n",
    "y = []\n",
    "samples_y = []\n",
    "\n",
    "f = open(\"phenotype_values.csv\",\"r\")\n",
    "\n",
    "for i,line in enumerate(f):\n",
    "    if(i == 0):\n",
    "       continue\n",
    "    sv = line.strip().split(\",\")\n",
    "    samples_y.append(sv[0])\n",
    "    y.append(float(sv[1]))\n",
    "    \n",
    "f.close()\n",
    "\n",
    "y = np.array(y)\n",
    "samples_y = np.array(samples_y)\n",
    "\n",
    "print (samples_y)\n",
    "print (y)"
   ]
  },
  {
   "cell_type": "code",
   "execution_count": 8,
   "metadata": {},
   "outputs": [
    {
     "name": "stdout",
     "output_type": "stream",
     "text": [
      "No Samples X:\t\t1826\n",
      "No Samples y:\t\t1826\n",
      "Samples correct order:\tTrue\n"
     ]
    }
   ],
   "source": [
    "# Match genotypes with phenotype values\n",
    "truth_table = (samples_x[:,np.newaxis]==samples_y)\n",
    "ind = np.where(truth_table==True)\n",
    "\n",
    "samples_x = samples_x[ind[0]]\n",
    "samples_y = samples_y[ind[1]]\n",
    "\n",
    "X = X[ind[0],:]\n",
    "y = y[ind[1]]\n",
    "\n",
    "print(\"No Samples X:\\t\\t%d\" % X.shape[0])\n",
    "print(\"No Samples y:\\t\\t%d\" % y.shape[0])\n",
    "\n",
    "print(\"Samples correct order:\\t\" + str(np.any(samples_x==samples_y)))\n"
   ]
  },
  {
   "cell_type": "code",
   "execution_count": 9,
   "metadata": {},
   "outputs": [
    {
     "name": "stdout",
     "output_type": "stream",
     "text": [
      "Full Data:\t(1826, 5000)\n",
      "Train Data:\t(1460, 5000)\n",
      "Test Data:\t(366, 5000)\n"
     ]
    }
   ],
   "source": [
    "# Split into train data and test data\n",
    "\n",
    "from sklearn.model_selection import train_test_split\n",
    "\n",
    "X_train, X_test, y_train, y_test = train_test_split(X,y,test_size=0.2, random_state=73)\n",
    "\n",
    "print(\"Full Data:\\t\" + str(X.shape))\n",
    "print(\"Train Data:\\t\" + str(X_train.shape))\n",
    "print(\"Test Data:\\t\" + str(X_test.shape))\n",
    "\n"
   ]
  },
  {
   "cell_type": "code",
   "execution_count": 10,
   "metadata": {},
   "outputs": [
    {
     "data": {
      "text/plain": [
       "'\\n# Impute missing values on training data\\n\\nfrom sklearn.impute import SimpleImputer\\n\\nimputer = SimpleImputer(strategy=\"most_frequent\")\\nX_train = imputer.fit_transform(X_train) \\nX_test = imputer.fit_transform(X_test) \\n\\nprint(X_train)\\n'"
      ]
     },
     "execution_count": 10,
     "metadata": {},
     "output_type": "execute_result"
    }
   ],
   "source": [
    "'''\n",
    "# Impute missing values on training data\n",
    "\n",
    "from sklearn.impute import SimpleImputer\n",
    "\n",
    "imputer = SimpleImputer(strategy=\"most_frequent\")\n",
    "X_train = imputer.fit_transform(X_train) \n",
    "X_test = imputer.fit_transform(X_test) \n",
    "\n",
    "print(X_train)\n",
    "'''"
   ]
  },
  {
   "cell_type": "code",
   "execution_count": 11,
   "metadata": {},
   "outputs": [
    {
     "name": "stdout",
     "output_type": "stream",
     "text": [
      "[[0. 0. 0. ... 0. 2. 0.]\n",
      " [0. 0. 0. ... 0. 0. 0.]\n",
      " [2. 0. 0. ... 0. 0. 0.]\n",
      " ...\n",
      " [0. 0. 0. ... 0. 0. 0.]\n",
      " [0. 2. 2. ... 0. 0. 2.]\n",
      " [0. 0. 0. ... 0. 0. 2.]]\n"
     ]
    }
   ],
   "source": [
    "# Impute missing values on training data with KNNImputer\n",
    "\n",
    "from sklearn.impute import KNNImputer\n",
    "\n",
    "knn_imputer = KNNImputer (missing_values=np.nan, n_neighbors=1)\n",
    "X_train = knn_imputer.fit_transform(X_train) \n",
    "X_test = knn_imputer.fit_transform(X_test) \n",
    "\n",
    "print(X_train)"
   ]
  },
  {
   "cell_type": "code",
   "execution_count": 12,
   "metadata": {},
   "outputs": [
    {
     "name": "stdout",
     "output_type": "stream",
     "text": [
      "MSE (Train):\t0.00\n",
      "R2 (Train):\t1.00\n",
      "MSE (Test):\t4.55\n",
      "R2 (Test):\t0.54\n"
     ]
    }
   ],
   "source": [
    "# Linear Regression\n",
    "\n",
    "import sklearn.metrics as metrics\n",
    "from sklearn import linear_model\n",
    "\n",
    "\n",
    "model1 = linear_model.LinearRegression()\n",
    "model1.fit(X_train, y_train)\n",
    "predictions_training = model1.predict(X_train)\n",
    "predictions_testing = model1.predict(X_test)\n",
    "\n",
    "print(\"MSE (Train):\\t%.2f\" % metrics.mean_squared_error(y_train, predictions_training))\n",
    "print(\"R2 (Train):\\t%.2f\" % metrics.r2_score(y_train, predictions_training))\n",
    "print(\"MSE (Test):\\t%.2f\" % metrics.mean_squared_error(y_test, predictions_testing))\n",
    "print(\"R2 (Test):\\t%.2f\" % metrics.r2_score(y_test, predictions_testing))"
   ]
  },
  {
   "cell_type": "code",
   "execution_count": 13,
   "metadata": {},
   "outputs": [
    {
     "name": "stdout",
     "output_type": "stream",
     "text": [
      "MSE (Train):\t0.55\n",
      "R2 (Train):\t0.95\n",
      "MSE (Test):\t3.99\n",
      "R2 (Test):\t0.60\n"
     ]
    }
   ],
   "source": [
    "model2=linear_model.Ridge(alpha=600)\n",
    "model2.fit(X_train, y_train)\n",
    "predictions_training = model2.predict(X_train)\n",
    "predictions_testing = model2.predict(X_test)\n",
    "\n",
    "print(\"MSE (Train):\\t%.2f\" % metrics.mean_squared_error(y_train, predictions_training))\n",
    "print(\"R2 (Train):\\t%.2f\" % metrics.r2_score(y_train, predictions_training))\n",
    "print(\"MSE (Test):\\t%.2f\" % metrics.mean_squared_error(y_test, predictions_testing))\n",
    "print(\"R2 (Test):\\t%.2f\" % metrics.r2_score(y_test, predictions_testing))"
   ]
  },
  {
   "cell_type": "code",
   "execution_count": 14,
   "metadata": {},
   "outputs": [
    {
     "name": "stdout",
     "output_type": "stream",
     "text": [
      "MSE (Train):\t0.54\n",
      "R2 (Train):\t0.95\n",
      "MSE (Test):\t3.51\n",
      "R2 (Test):\t0.65\n"
     ]
    },
    {
     "name": "stderr",
     "output_type": "stream",
     "text": [
      "/usr/local/lib/python3.6/dist-packages/sklearn/linear_model/_coordinate_descent.py:531: ConvergenceWarning: Objective did not converge. You might want to increase the number of iterations. Duality gap: 7.299141304682507, tolerance: 1.5191063916712328\n",
      "  positive)\n"
     ]
    }
   ],
   "source": [
    "model3=linear_model.ElasticNet(alpha=0.1,l1_ratio=0.1,max_iter=7000)\n",
    "model3.fit(X_train, y_train)\n",
    "predictions_training = model3.predict(X_train)\n",
    "predictions_testing = model3.predict(X_test)\n",
    "\n",
    "print(\"MSE (Train):\\t%.2f\" % metrics.mean_squared_error(y_train, predictions_training))\n",
    "print(\"R2 (Train):\\t%.2f\" % metrics.r2_score(y_train, predictions_training))\n",
    "print(\"MSE (Test):\\t%.2f\" % metrics.mean_squared_error(y_test, predictions_testing))\n",
    "print(\"R2 (Test):\\t%.2f\" % metrics.r2_score(y_test, predictions_testing))"
   ]
  },
  {
   "cell_type": "code",
   "execution_count": 16,
   "metadata": {},
   "outputs": [
    {
     "name": "stderr",
     "output_type": "stream",
     "text": [
      "/usr/local/lib/python3.6/dist-packages/sklearn/linear_model/_coordinate_descent.py:531: ConvergenceWarning: Objective did not converge. You might want to increase the number of iterations. Duality gap: 2.2546231945584623, tolerance: 1.2323197651969178\n",
      "  positive)\n",
      "/usr/local/lib/python3.6/dist-packages/sklearn/linear_model/_coordinate_descent.py:531: ConvergenceWarning: Objective did not converge. You might want to increase the number of iterations. Duality gap: 1.346231441544262, tolerance: 1.2323197651969178\n",
      "  positive)\n",
      "/usr/local/lib/python3.6/dist-packages/sklearn/linear_model/_coordinate_descent.py:531: ConvergenceWarning: Objective did not converge. You might want to increase the number of iterations. Duality gap: 2.2686300355188536, tolerance: 1.2323197651969178\n",
      "  positive)\n"
     ]
    },
    {
     "name": "stdout",
     "output_type": "stream",
     "text": [
      "MSE (Train):\t0.58\n",
      "R2 (Train):\t0.94\n",
      "MSE (Test):\t3.52\n",
      "R2 (Test):\t0.65\n",
      "447712.377256031\n"
     ]
    },
    {
     "name": "stderr",
     "output_type": "stream",
     "text": [
      "/usr/local/lib/python3.6/dist-packages/sklearn/linear_model/_coordinate_descent.py:531: ConvergenceWarning: Objective did not converge. You might want to increase the number of iterations. Duality gap: 27.870652921141527, tolerance: 1.5191063916712328\n",
      "  positive)\n"
     ]
    }
   ],
   "source": [
    "from sklearn import linear_model\n",
    "import time\n",
    "\n",
    "start = time.process_time()\n",
    "\n",
    "model4=linear_model.ElasticNetCV(cv = 5, l1_ratio=np.arange(0.01, 0.1, 0.01), max_iter=5000, random_state=73)\n",
    "model4.fit(X_train, y_train)\n",
    "predictions_training = model4.predict(X_train)\n",
    "predictions_testing = model4.predict(X_test)\n",
    "\n",
    "print(\"MSE (Train):\\t%.2f\" % metrics.mean_squared_error(y_train, predictions_training))\n",
    "print(\"R2 (Train):\\t%.2f\" % metrics.r2_score(y_train, predictions_training))\n",
    "print(\"MSE (Test):\\t%.2f\" % metrics.mean_squared_error(y_test, predictions_testing))\n",
    "print(\"R2 (Test):\\t%.2f\" % metrics.r2_score(y_test, predictions_testing))\n",
    "\n",
    "delta = time.process_time() - start\n",
    "print (delta)"
   ]
  },
  {
   "cell_type": "code",
   "execution_count": 17,
   "metadata": {},
   "outputs": [
    {
     "name": "stdout",
     "output_type": "stream",
     "text": [
      "0.1141133501914393\n",
      "0.09\n"
     ]
    }
   ],
   "source": [
    "print (model4.alpha_)\n",
    "print (model4.l1_ratio_)"
   ]
  },
  {
   "cell_type": "code",
   "execution_count": null,
   "metadata": {},
   "outputs": [],
   "source": []
  }
 ],
 "metadata": {
  "kernelspec": {
   "display_name": "Python 3",
   "language": "python",
   "name": "python3"
  },
  "language_info": {
   "codemirror_mode": {
    "name": "ipython",
    "version": 3
   },
   "file_extension": ".py",
   "mimetype": "text/x-python",
   "name": "python",
   "nbconvert_exporter": "python",
   "pygments_lexer": "ipython3",
   "version": "3.6.9"
  }
 },
 "nbformat": 4,
 "nbformat_minor": 2
}
